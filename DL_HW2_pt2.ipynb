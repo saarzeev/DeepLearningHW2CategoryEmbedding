{
  "nbformat": 4,
  "nbformat_minor": 0,
  "metadata": {
    "colab": {
      "name": "DL HW2 pt2.ipynb",
      "provenance": [],
      "collapsed_sections": [],
      "toc_visible": true,
      "authorship_tag": "ABX9TyMBgFYzRo7J3xR/euuKaHXT"
    },
    "kernelspec": {
      "name": "python3",
      "display_name": "Python 3"
    },
    "accelerator": "GPU"
  },
  "cells": [
    {
      "cell_type": "code",
      "metadata": {
        "id": "jpSed8uigQ8O",
        "colab_type": "code",
        "outputId": "e8e4484a-0dc6-458b-b2e4-c66bb7799353",
        "colab": {
          "base_uri": "https://localhost:8080/",
          "height": 92
        }
      },
      "source": [
        "import pandas as pd\n",
        "import matplotlib.pyplot as plt\n",
        "import seaborn as sns\n",
        "import numpy as np\n",
        "import xgboost as xgb\n",
        "from xgboost import plot_importance, plot_tree\n",
        "from sklearn.metrics import mean_squared_error, mean_absolute_error\n",
        "from sklearn.preprocessing import LabelEncoder\n",
        "from sklearn.model_selection import train_test_split\n",
        "from sklearn import preprocessing\n",
        "\n",
        "from keras.models import Model\n",
        "from keras.layers import *\n",
        "from keras.callbacks import *\n",
        "\n",
        "from keras.regularizers import l2\n",
        "from keras.optimizers import *\n",
        "from keras.utils import to_categorical"
      ],
      "execution_count": 2,
      "outputs": [
        {
          "output_type": "stream",
          "text": [
            "/usr/local/lib/python3.6/dist-packages/statsmodels/tools/_testing.py:19: FutureWarning: pandas.util.testing is deprecated. Use the functions in the public API at pandas.testing instead.\n",
            "  import pandas.util.testing as tm\n",
            "Using TensorFlow backend.\n"
          ],
          "name": "stderr"
        }
      ]
    },
    {
      "cell_type": "code",
      "metadata": {
        "id": "acFmvbX0fILP",
        "colab_type": "code",
        "outputId": "21584929-5e6b-4ee9-9476-910cedc09229",
        "colab": {
          "base_uri": "https://localhost:8080/",
          "height": 129
        }
      },
      "source": [
        "from google.colab import drive\n",
        "drive.mount('/content/drive')"
      ],
      "execution_count": 3,
      "outputs": [
        {
          "output_type": "stream",
          "text": [
            "Go to this URL in a browser: https://accounts.google.com/o/oauth2/auth?client_id=947318989803-6bn6qk8qdgf4n4g3pfee6491hc0brc4i.apps.googleusercontent.com&redirect_uri=urn%3aietf%3awg%3aoauth%3a2.0%3aoob&response_type=code&scope=email%20https%3a%2f%2fwww.googleapis.com%2fauth%2fdocs.test%20https%3a%2f%2fwww.googleapis.com%2fauth%2fdrive%20https%3a%2f%2fwww.googleapis.com%2fauth%2fdrive.photos.readonly%20https%3a%2f%2fwww.googleapis.com%2fauth%2fpeopleapi.readonly\n",
            "\n",
            "Enter your authorization code:\n",
            "··········\n",
            "Mounted at /content/drive\n"
          ],
          "name": "stdout"
        }
      ]
    },
    {
      "cell_type": "markdown",
      "metadata": {
        "id": "KRr8oP3ijBYE",
        "colab_type": "text"
      },
      "source": [
        "# Q3\n",
        "Function defenitions"
      ]
    },
    {
      "cell_type": "code",
      "metadata": {
        "id": "8wfOZdRmjdA_",
        "colab_type": "code",
        "colab": {}
      },
      "source": [
        "def month_extractor(row):\n",
        "  return row['date'].split('.')[1]\n",
        "\n",
        "def year_extractor(row):\n",
        "  return row['date'].split('.')[2]\n",
        "\n",
        "def city_extractor(row):\n",
        "  return row['shop_name'].split(' ')[0]\n",
        "\n",
        "def plot_history(hist):\n",
        "  plt.plot(hist.history['loss'])\n",
        "  plt.plot(hist.history['val_loss'])\n",
        "  plt.title('model loss')\n",
        "  plt.ylabel('loss')\n",
        "  plt.xlabel('epoch')\n",
        "  plt.legend(['train', 'validation'], loc='upper left')\n",
        "  plt.show()\n",
        "\n",
        "def root_mean_squared_error(y_true, y_pred):\n",
        "        return K.sqrt(K.mean(K.square(y_pred - y_true))) \n",
        "\n",
        "def lag_feature(df, lags, col):\n",
        "    tmp = df[['date_block_num','shop_id','item_id',col]]\n",
        "    for i in lags:\n",
        "        shifted = tmp.copy()\n",
        "        shifted.columns = ['date_block_num','shop_id','item_id', col+'_lag_'+str(i)]\n",
        "        shifted['date_block_num'] += i\n",
        "        df = pd.merge(df, shifted, on=['date_block_num','shop_id','item_id'], how='left').fillna(0)\n",
        "    return df\n",
        "\n",
        "def set_callbacks(description='run1',patience=7,tb_base_logdir='./logs/'):\n",
        "    cp = ModelCheckpoint('best_model_weights_{}.h5'.format(description),save_best_only=True)\n",
        "    es = EarlyStopping(patience=patience,monitor='val_loss')\n",
        "    rlop = ReduceLROnPlateau(patience=3)   \n",
        "    tb = TensorBoard(log_dir='{}{}'.format(tb_base_logdir,description))\n",
        "    cb = [cp,es,tb,rlop]\n",
        "    return cb"
      ],
      "execution_count": 0,
      "outputs": []
    },
    {
      "cell_type": "markdown",
      "metadata": {
        "id": "UHt479x9rZSe",
        "colab_type": "text"
      },
      "source": [
        "Load the data"
      ]
    },
    {
      "cell_type": "code",
      "metadata": {
        "id": "w62Z2bIOra31",
        "colab_type": "code",
        "colab": {}
      },
      "source": [
        "folder='/content/drive/My Drive/DL HW2/' \n",
        "\n",
        "shops = pd.read_csv(folder + 'shops.csv', engine='python')\n",
        "items = pd.read_csv(folder + 'items.csv', engine='python')\n",
        "item_categories = pd.read_csv(folder + 'item_categories.csv', engine='python')\n",
        "train = pd.read_csv(folder + 'sales_train.csv', engine='python')\n",
        "test = pd.read_csv(folder + 'test.csv', engine='python')"
      ],
      "execution_count": 0,
      "outputs": []
    },
    {
      "cell_type": "markdown",
      "metadata": {
        "id": "JHUlWkEjrfRq",
        "colab_type": "text"
      },
      "source": [
        "Let's visualize item prices and items daily sales to spot outliers."
      ]
    },
    {
      "cell_type": "code",
      "metadata": {
        "id": "Fj1uzlRs1m_D",
        "colab_type": "code",
        "outputId": "d107c8b6-5fa3-403d-8b71-24001673b497",
        "colab": {
          "base_uri": "https://localhost:8080/",
          "height": 516
        }
      },
      "source": [
        "plt.figure(figsize=(22,8))\n",
        "plt.subplot(2, 1, 1)\n",
        "sns.boxplot(x=train['item_cnt_day'])\n",
        "plt.subplot(2, 1, 2)\n",
        "sns.boxplot(x=train['item_price'])\n"
      ],
      "execution_count": 0,
      "outputs": [
        {
          "output_type": "execute_result",
          "data": {
            "text/plain": [
              "<matplotlib.axes._subplots.AxesSubplot at 0x7ff2a608a710>"
            ]
          },
          "metadata": {
            "tags": []
          },
          "execution_count": 95
        },
        {
          "output_type": "display_data",
          "data": {
            "image/png": "[encoded data removed]",
            "text/plain": [
              "<Figure size 1584x576 with 2 Axes>"
            ]
          },
          "metadata": {
            "tags": [],
            "needs_background": "light"
          }
        }
      ]
    },
    {
      "cell_type": "markdown",
      "metadata": {
        "id": "cJaTmPlCrmeL",
        "colab_type": "text"
      },
      "source": [
        "We can clearly see we have a couple of outliers in the top range, and for the daily sale count we even have a few examples of negative numbers, which might be a an error in the data, or represent returned items.\n",
        "\n",
        "Either way, we will get rid of the outliers."
      ]
    },
    {
      "cell_type": "code",
      "metadata": {
        "id": "lR5kcPPW2PI6",
        "colab_type": "code",
        "outputId": "0a076522-14d0-47f3-b0c0-62362144868f",
        "colab": {
          "base_uri": "https://localhost:8080/",
          "height": 54
        }
      },
      "source": [
        "print(train.shape)\n",
        "train = train.query('item_cnt_day >= 0 and item_cnt_day <= 1500 and item_price < 100000')\n",
        "print(train.shape)\n"
      ],
      "execution_count": 6,
      "outputs": [
        {
          "output_type": "stream",
          "text": [
            "(2935849, 6)\n",
            "(2928491, 6)\n"
          ],
          "name": "stdout"
        }
      ]
    },
    {
      "cell_type": "markdown",
      "metadata": {
        "id": "x5EjfJjYrNAU",
        "colab_type": "text"
      },
      "source": [
        "# Feature engineering"
      ]
    },
    {
      "cell_type": "code",
      "metadata": {
        "id": "Be_dKH9Ufs4q",
        "colab_type": "code",
        "colab": {
          "base_uri": "https://localhost:8080/",
          "height": 274
        },
        "outputId": "6d7cddf9-74e9-4be2-b1a7-6cc31d0e5b0e"
      },
      "source": [
        "# From the date column we can extract month, and year. \n",
        "# As we predict selling amount for an entire month, extracting the days is irrelevant.\n",
        "# We can also extract the city name in which the store is located from the shop name.\n",
        "train['month'] = train.apply(lambda row: month_extractor(row), axis=1)\n",
        "train['year'] = train.apply(lambda row: year_extractor(row), axis=1)\n",
        "shops['city'] = shops.apply(lambda row: city_extractor(row), axis=1)\n",
        "\n",
        "\n",
        "# We have no use for the names themselves, so we will encode them.\n",
        "le_city = LabelEncoder()\n",
        "shops['city'] = le_city.fit_transform(shops['city'])\n",
        "\n",
        "le_month = LabelEncoder()\n",
        "train['month'] = le_month.fit_transform(train['month'])\n",
        "\n",
        "print(train.head())\n",
        "print(test.head())"
      ],
      "execution_count": 7,
      "outputs": [
        {
          "output_type": "stream",
          "text": [
            "         date  date_block_num  shop_id  ...  item_cnt_day  month  year\n",
            "0  02.01.2013               0       59  ...           1.0      0  2013\n",
            "1  03.01.2013               0       25  ...           1.0      0  2013\n",
            "3  06.01.2013               0       25  ...           1.0      0  2013\n",
            "4  15.01.2013               0       25  ...           1.0      0  2013\n",
            "5  10.01.2013               0       25  ...           1.0      0  2013\n",
            "\n",
            "[5 rows x 8 columns]\n",
            "   ID  shop_id  item_id\n",
            "0   0        5     5037\n",
            "1   1        5     5320\n",
            "2   2        5     5233\n",
            "3   3        5     5232\n",
            "4   4        5     5268\n"
          ],
          "name": "stdout"
        }
      ]
    },
    {
      "cell_type": "markdown",
      "metadata": {
        "id": "yZgcPG7FsrkL",
        "colab_type": "text"
      },
      "source": [
        "Calculate the target item_cnt_month"
      ]
    },
    {
      "cell_type": "code",
      "metadata": {
        "id": "wX698DPoc60Q",
        "colab_type": "code",
        "colab": {
          "base_uri": "https://localhost:8080/",
          "height": 421
        },
        "outputId": "f7093bea-2daf-4291-dbea-5e3a03245138"
      },
      "source": [
        "train = train.groupby(['date_block_num','shop_id','item_id'], as_index=False).agg({'item_cnt_day': ['sum'], 'month': ['first'], 'year': ['first']})\n",
        "\n",
        "\n",
        "train.columns = ['date_block_num', 'shop_id', 'item_id', 'item_cnt_month', 'month', 'year']\n",
        "train.item_cnt_month = train.item_cnt_month.clip(0, 20)\n",
        "\n",
        "print(train.columns.values)\n",
        "print(train.head(20))"
      ],
      "execution_count": 8,
      "outputs": [
        {
          "output_type": "stream",
          "text": [
            "['date_block_num' 'shop_id' 'item_id' 'item_cnt_month' 'month' 'year']\n",
            "    date_block_num  shop_id  item_id  item_cnt_month  month  year\n",
            "0                0        0       32             6.0      0  2013\n",
            "1                0        0       33             3.0      0  2013\n",
            "2                0        0       35             1.0      0  2013\n",
            "3                0        0       43             1.0      0  2013\n",
            "4                0        0       51             2.0      0  2013\n",
            "5                0        0       61             1.0      0  2013\n",
            "6                0        0       75             1.0      0  2013\n",
            "7                0        0       88             1.0      0  2013\n",
            "8                0        0       95             1.0      0  2013\n",
            "9                0        0       96             1.0      0  2013\n",
            "10               0        0       98            20.0      0  2013\n",
            "11               0        0      111             1.0      0  2013\n",
            "12               0        0      149             3.0      0  2013\n",
            "13               0        0      151             1.0      0  2013\n",
            "14               0        0      153             1.0      0  2013\n",
            "15               0        0      198             1.0      0  2013\n",
            "16               0        0      210             2.0      0  2013\n",
            "17               0        0      282             1.0      0  2013\n",
            "18               0        0      306             1.0      0  2013\n",
            "19               0        0      351             1.0      0  2013\n"
          ],
          "name": "stdout"
        }
      ]
    },
    {
      "cell_type": "markdown",
      "metadata": {
        "id": "PZS-sD6LsyYh",
        "colab_type": "text"
      },
      "source": [
        "We would like to add extracted data to the test set as well, so we have to fill in missig data before we can concat the test and training sets.\n",
        "\n",
        "We will be able to tell the data apart later on using the 'date_block_num' column, in which the test set has a value of 34."
      ]
    },
    {
      "cell_type": "code",
      "metadata": {
        "id": "VlOX6NrRWtsL",
        "colab_type": "code",
        "colab": {}
      },
      "source": [
        "test['date_block_num'] = 34\n",
        "test['month'] = 10\n",
        "test['year'] = 2015"
      ],
      "execution_count": 0,
      "outputs": []
    },
    {
      "cell_type": "code",
      "metadata": {
        "id": "_pxlrv7hW-BU",
        "colab_type": "code",
        "colab": {
          "base_uri": "https://localhost:8080/",
          "height": 237
        },
        "outputId": "3b68205e-b40d-4422-844d-4edf85664e91"
      },
      "source": [
        "print(train.head())\n",
        "print(test.head())"
      ],
      "execution_count": 36,
      "outputs": [
        {
          "output_type": "stream",
          "text": [
            "   date_block_num  shop_id  item_id  item_cnt_month  month  year\n",
            "0               0        0       32             6.0      0  2013\n",
            "1               0        0       33             3.0      0  2013\n",
            "2               0        0       35             1.0      0  2013\n",
            "3               0        0       43             1.0      0  2013\n",
            "4               0        0       51             2.0      0  2013\n",
            "   ID  shop_id  item_id  date_block_num  year  month\n",
            "0   0        5     5037              34  2015     10\n",
            "1   1        5     5320              34  2015     10\n",
            "2   2        5     5233              34  2015     10\n",
            "3   3        5     5232              34  2015     10\n",
            "4   4        5     5268              34  2015     10\n"
          ],
          "name": "stdout"
        }
      ]
    },
    {
      "cell_type": "markdown",
      "metadata": {
        "id": "L3DD2_u_tIrf",
        "colab_type": "text"
      },
      "source": [
        "Finally concatenate the dataframes."
      ]
    },
    {
      "cell_type": "code",
      "metadata": {
        "id": "ckRB-_XqXqjg",
        "colab_type": "code",
        "colab": {
          "base_uri": "https://localhost:8080/",
          "height": 274
        },
        "outputId": "3618806a-6b22-4882-cad9-603ac88e7682"
      },
      "source": [
        "sales = pd.concat([train, test.drop(['ID'], axis=1)]).fillna(0)\n",
        "\n",
        "print(sales)"
      ],
      "execution_count": 10,
      "outputs": [
        {
          "output_type": "stream",
          "text": [
            "        date_block_num  shop_id  item_id  item_cnt_month  month  year\n",
            "0                    0        0       32             6.0      0  2013\n",
            "1                    0        0       33             3.0      0  2013\n",
            "2                    0        0       35             1.0      0  2013\n",
            "3                    0        0       43             1.0      0  2013\n",
            "4                    0        0       51             2.0      0  2013\n",
            "...                ...      ...      ...             ...    ...   ...\n",
            "214195              34       45    18454             0.0     10  2015\n",
            "214196              34       45    16188             0.0     10  2015\n",
            "214197              34       45    15757             0.0     10  2015\n",
            "214198              34       45    19648             0.0     10  2015\n",
            "214199              34       45      969             0.0     10  2015\n",
            "\n",
            "[1822425 rows x 6 columns]\n"
          ],
          "name": "stdout"
        }
      ]
    },
    {
      "cell_type": "markdown",
      "metadata": {
        "id": "ZuAsxonQtPqx",
        "colab_type": "text"
      },
      "source": [
        "We can make use of the item category and the shop city we extracted earlier. Let's join them into the dataframe."
      ]
    },
    {
      "cell_type": "code",
      "metadata": {
        "id": "5kE5PxCaYVSl",
        "colab_type": "code",
        "colab": {
          "base_uri": "https://localhost:8080/",
          "height": 164
        },
        "outputId": "7c611186-3425-4258-a4a8-1dc8da1d08c9"
      },
      "source": [
        "sales = pd.merge(sales, items[[\"item_id\", \"item_category_id\"]], on='item_id', how='left').fillna(-1)\n",
        "sales = pd.merge(sales, shops[[\"shop_id\", \"city\"]], on='shop_id', how='left').fillna('')\n",
        "\n",
        "print(sales.head())"
      ],
      "execution_count": 11,
      "outputs": [
        {
          "output_type": "stream",
          "text": [
            "   date_block_num  shop_id  item_id  ...  year  item_category_id city\n",
            "0               0        0       32  ...  2013                40    0\n",
            "1               0        0       33  ...  2013                37    0\n",
            "2               0        0       35  ...  2013                40    0\n",
            "3               0        0       43  ...  2013                40    0\n",
            "4               0        0       51  ...  2013                57    0\n",
            "\n",
            "[5 rows x 8 columns]\n"
          ],
          "name": "stdout"
        }
      ]
    },
    {
      "cell_type": "markdown",
      "metadata": {
        "id": "Y7HmhrF6tZdc",
        "colab_type": "text"
      },
      "source": [
        "Add previous item_cnt_month values, for 1,2,3,6 and 12 months earlier."
      ]
    },
    {
      "cell_type": "code",
      "metadata": {
        "id": "i-WKwk38cTZZ",
        "colab_type": "code",
        "colab": {}
      },
      "source": [
        "sales = lag_feature(sales, [1,2,3,6,12], 'item_cnt_month')"
      ],
      "execution_count": 0,
      "outputs": []
    },
    {
      "cell_type": "code",
      "metadata": {
        "id": "Dq20t9U_xgGa",
        "colab_type": "code",
        "colab": {
          "base_uri": "https://localhost:8080/",
          "height": 261
        },
        "outputId": "104eef97-3b75-48d1-c16d-aedd7669ea18"
      },
      "source": [
        "#We will engineer features using only the train set, as the test set has no data \n",
        "#and is filles with 0's\n",
        "\n",
        "train = sales.query('date_block_num < 34')\n",
        "\n",
        "#Add shop-month avg sales\n",
        "group = train.groupby(['shop_id', 'month',], as_index=False).agg({'item_cnt_month': np.average})\n",
        "group = group.rename(columns={'item_cnt_month': 'shop_month_avg'})\n",
        "sales = pd.merge(sales, group, how='left', on=['shop_id', 'month'])\n",
        "\n",
        "#Add item-month avg sales\n",
        "group = train.groupby(['item_id', 'month',], as_index=False).agg({'item_cnt_month': np.average})\n",
        "group = group.rename(columns={'item_cnt_month': 'item_month_avg'})\n",
        "sales = pd.merge(sales, group, how='left', on=['item_id', 'month'])\n",
        "\n",
        "#Add city-cat-month avg sales\n",
        "group = train.groupby(['item_category_id', 'month', 'city'], as_index=False).agg({'item_cnt_month': np.average})\n",
        "group = group.rename(columns={'item_cnt_month': 'city_cat_month_avg'})\n",
        "sales = pd.merge(sales, group, how='left', on=['item_category_id', 'month', 'city'])\n",
        "\n",
        "#Add shop-cat-month avg sales\n",
        "group = train.groupby(['item_category_id', 'month', 'shop_id'], as_index=False).agg({'item_cnt_month': np.average})\n",
        "group = group.rename(columns={'item_cnt_month': 'shop-cat-month'})\n",
        "sales = pd.merge(sales, group, how='left', on=['item_category_id', 'month', 'shop_id'])\n",
        "\n",
        "sales.columns.values\n",
        "sales.head()"
      ],
      "execution_count": 13,
      "outputs": [
        {
          "output_type": "execute_result",
          "data": {
            "text/html": [
              "<div>\n",
              "<style scoped>\n",
              "    .dataframe tbody tr th:only-of-type {\n",
              "        vertical-align: middle;\n",
              "    }\n",
              "\n",
              "    .dataframe tbody tr th {\n",
              "        vertical-align: top;\n",
              "    }\n",
              "\n",
              "    .dataframe thead th {\n",
              "        text-align: right;\n",
              "    }\n",
              "</style>\n",
              "<table border=\"1\" class=\"dataframe\">\n",
              "  <thead>\n",
              "    <tr style=\"text-align: right;\">\n",
              "      <th></th>\n",
              "      <th>date_block_num</th>\n",
              "      <th>shop_id</th>\n",
              "      <th>item_id</th>\n",
              "      <th>item_cnt_month</th>\n",
              "      <th>month</th>\n",
              "      <th>year</th>\n",
              "      <th>item_category_id</th>\n",
              "      <th>city</th>\n",
              "      <th>item_cnt_month_lag_1</th>\n",
              "      <th>item_cnt_month_lag_2</th>\n",
              "      <th>item_cnt_month_lag_3</th>\n",
              "      <th>item_cnt_month_lag_6</th>\n",
              "      <th>item_cnt_month_lag_12</th>\n",
              "      <th>shop_month_avg</th>\n",
              "      <th>item_month_avg</th>\n",
              "      <th>city_cat_month_avg</th>\n",
              "      <th>shop-cat-month</th>\n",
              "    </tr>\n",
              "  </thead>\n",
              "  <tbody>\n",
              "    <tr>\n",
              "      <th>0</th>\n",
              "      <td>0</td>\n",
              "      <td>0</td>\n",
              "      <td>32</td>\n",
              "      <td>6.0</td>\n",
              "      <td>0</td>\n",
              "      <td>2013</td>\n",
              "      <td>40</td>\n",
              "      <td>0</td>\n",
              "      <td>0.0</td>\n",
              "      <td>0.0</td>\n",
              "      <td>0.0</td>\n",
              "      <td>0.0</td>\n",
              "      <td>0.0</td>\n",
              "      <td>2.268763</td>\n",
              "      <td>4.054945</td>\n",
              "      <td>1.863329</td>\n",
              "      <td>2.126050</td>\n",
              "    </tr>\n",
              "    <tr>\n",
              "      <th>1</th>\n",
              "      <td>0</td>\n",
              "      <td>0</td>\n",
              "      <td>33</td>\n",
              "      <td>3.0</td>\n",
              "      <td>0</td>\n",
              "      <td>2013</td>\n",
              "      <td>37</td>\n",
              "      <td>0</td>\n",
              "      <td>0.0</td>\n",
              "      <td>0.0</td>\n",
              "      <td>0.0</td>\n",
              "      <td>0.0</td>\n",
              "      <td>0.0</td>\n",
              "      <td>2.268763</td>\n",
              "      <td>1.876923</td>\n",
              "      <td>1.346801</td>\n",
              "      <td>1.440191</td>\n",
              "    </tr>\n",
              "    <tr>\n",
              "      <th>2</th>\n",
              "      <td>0</td>\n",
              "      <td>0</td>\n",
              "      <td>35</td>\n",
              "      <td>1.0</td>\n",
              "      <td>0</td>\n",
              "      <td>2013</td>\n",
              "      <td>40</td>\n",
              "      <td>0</td>\n",
              "      <td>0.0</td>\n",
              "      <td>0.0</td>\n",
              "      <td>0.0</td>\n",
              "      <td>0.0</td>\n",
              "      <td>0.0</td>\n",
              "      <td>2.268763</td>\n",
              "      <td>3.250000</td>\n",
              "      <td>1.863329</td>\n",
              "      <td>2.126050</td>\n",
              "    </tr>\n",
              "    <tr>\n",
              "      <th>3</th>\n",
              "      <td>0</td>\n",
              "      <td>0</td>\n",
              "      <td>43</td>\n",
              "      <td>1.0</td>\n",
              "      <td>0</td>\n",
              "      <td>2013</td>\n",
              "      <td>40</td>\n",
              "      <td>0</td>\n",
              "      <td>0.0</td>\n",
              "      <td>0.0</td>\n",
              "      <td>0.0</td>\n",
              "      <td>0.0</td>\n",
              "      <td>0.0</td>\n",
              "      <td>2.268763</td>\n",
              "      <td>1.000000</td>\n",
              "      <td>1.863329</td>\n",
              "      <td>2.126050</td>\n",
              "    </tr>\n",
              "    <tr>\n",
              "      <th>4</th>\n",
              "      <td>0</td>\n",
              "      <td>0</td>\n",
              "      <td>51</td>\n",
              "      <td>2.0</td>\n",
              "      <td>0</td>\n",
              "      <td>2013</td>\n",
              "      <td>57</td>\n",
              "      <td>0</td>\n",
              "      <td>0.0</td>\n",
              "      <td>0.0</td>\n",
              "      <td>0.0</td>\n",
              "      <td>0.0</td>\n",
              "      <td>0.0</td>\n",
              "      <td>2.268763</td>\n",
              "      <td>1.350000</td>\n",
              "      <td>1.176471</td>\n",
              "      <td>1.176471</td>\n",
              "    </tr>\n",
              "  </tbody>\n",
              "</table>\n",
              "</div>"
            ],
            "text/plain": [
              "   date_block_num  shop_id  ...  city_cat_month_avg  shop-cat-month\n",
              "0               0        0  ...            1.863329        2.126050\n",
              "1               0        0  ...            1.346801        1.440191\n",
              "2               0        0  ...            1.863329        2.126050\n",
              "3               0        0  ...            1.863329        2.126050\n",
              "4               0        0  ...            1.176471        1.176471\n",
              "\n",
              "[5 rows x 17 columns]"
            ]
          },
          "metadata": {
            "tags": []
          },
          "execution_count": 13
        }
      ]
    },
    {
      "cell_type": "markdown",
      "metadata": {
        "id": "uzXP6_67tjfl",
        "colab_type": "text"
      },
      "source": [
        "Downcast the values, to take up less memory and expedite the learning process."
      ]
    },
    {
      "cell_type": "code",
      "metadata": {
        "id": "xXWbyPwAsQIr",
        "colab_type": "code",
        "colab": {
          "base_uri": "https://localhost:8080/",
          "height": 458
        },
        "outputId": "1f48d7a1-f325-4e87-be78-13b6c0527052"
      },
      "source": [
        "sales.year = sales.year.astype(np.int16)\n",
        "\n",
        "float_cols = [c for c in sales if sales[c].dtype == \"float64\"]\n",
        "int_cols = [c for c in sales if sales[c].dtype == \"int64\"]\n",
        "\n",
        "sales[float_cols] = sales[float_cols].astype(np.float32)\n",
        "sales[int_cols] = sales[int_cols].astype(np.int32)\n",
        "\n",
        "sales.info()"
      ],
      "execution_count": 14,
      "outputs": [
        {
          "output_type": "stream",
          "text": [
            "<class 'pandas.core.frame.DataFrame'>\n",
            "Int64Index: 1822425 entries, 0 to 1822424\n",
            "Data columns (total 17 columns):\n",
            " #   Column                 Dtype  \n",
            "---  ------                 -----  \n",
            " 0   date_block_num         int32  \n",
            " 1   shop_id                int32  \n",
            " 2   item_id                int32  \n",
            " 3   item_cnt_month         float32\n",
            " 4   month                  int32  \n",
            " 5   year                   int16  \n",
            " 6   item_category_id       int32  \n",
            " 7   city                   int32  \n",
            " 8   item_cnt_month_lag_1   float32\n",
            " 9   item_cnt_month_lag_2   float32\n",
            " 10  item_cnt_month_lag_3   float32\n",
            " 11  item_cnt_month_lag_6   float32\n",
            " 12  item_cnt_month_lag_12  float32\n",
            " 13  shop_month_avg         float32\n",
            " 14  item_month_avg         float32\n",
            " 15  city_cat_month_avg     float32\n",
            " 16  shop-cat-month         float32\n",
            "dtypes: float32(10), int16(1), int32(6)\n",
            "memory usage: 128.6 MB\n"
          ],
          "name": "stdout"
        }
      ]
    },
    {
      "cell_type": "markdown",
      "metadata": {
        "id": "lQ_hEZ5GtujN",
        "colab_type": "text"
      },
      "source": [
        "Split test and train data, and create a validation set."
      ]
    },
    {
      "cell_type": "code",
      "metadata": {
        "id": "ry4dk_upqdWq",
        "colab_type": "code",
        "colab": {
          "base_uri": "https://localhost:8080/",
          "height": 90
        },
        "outputId": "f7f30f19-ad9a-4a62-bf09-7551ec0820fd"
      },
      "source": [
        "train = sales.query('date_block_num < 34')\n",
        "test = sales.query('date_block_num == 34')\n",
        "X = train.drop(['item_cnt_month'], axis=1)\n",
        "y = train['item_cnt_month']\n",
        "\n",
        "X_train, X_val, y_train, y_val = train_test_split(X, y, test_size=0.2)\n",
        "del X\n",
        "del y\n",
        "print(X_train.shape)\n",
        "print(y_train.shape)\n",
        "\n",
        "print(X_val.shape)\n",
        "print(y_val.shape)"
      ],
      "execution_count": 15,
      "outputs": [
        {
          "output_type": "stream",
          "text": [
            "(1286580, 16)\n",
            "(1286580,)\n",
            "(321645, 16)\n",
            "(321645,)\n"
          ],
          "name": "stdout"
        }
      ]
    },
    {
      "cell_type": "markdown",
      "metadata": {
        "id": "EhGSL2RXtzCT",
        "colab_type": "text"
      },
      "source": [
        "Lets train a ML model to get a performance benchmark."
      ]
    },
    {
      "cell_type": "code",
      "metadata": {
        "id": "Tl6IHgYwr3Za",
        "colab_type": "code",
        "colab": {
          "base_uri": "https://localhost:8080/",
          "height": 1000
        },
        "outputId": "93fe6cf6-6d2c-4be1-dd88-44f8077e7b1a"
      },
      "source": [
        "reg = xgb.XGBRegressor(n_estimators=100, max_depth=7, objective='reg:squarederror')\n",
        "reg.fit(X_train, y_train,\n",
        "        eval_set=[(X_train, y_train), (X_val, y_val)],\n",
        "        early_stopping_rounds=50,\n",
        "       verbose=True)"
      ],
      "execution_count": 20,
      "outputs": [
        {
          "output_type": "stream",
          "text": [
            "[0]\tvalidation_0-rmse:2.78394\tvalidation_1-rmse:2.79837\n",
            "Multiple eval metrics have been passed: 'validation_1-rmse' will be used for early stopping.\n",
            "\n",
            "Will train until validation_1-rmse hasn't improved in 50 rounds.\n",
            "[1]\tvalidation_0-rmse:2.59938\tvalidation_1-rmse:2.61388\n",
            "[2]\tvalidation_0-rmse:2.43832\tvalidation_1-rmse:2.45255\n",
            "[3]\tvalidation_0-rmse:2.29722\tvalidation_1-rmse:2.31115\n",
            "[4]\tvalidation_0-rmse:2.17519\tvalidation_1-rmse:2.18856\n",
            "[5]\tvalidation_0-rmse:2.06921\tvalidation_1-rmse:2.08289\n",
            "[6]\tvalidation_0-rmse:1.97844\tvalidation_1-rmse:1.99226\n",
            "[7]\tvalidation_0-rmse:1.89981\tvalidation_1-rmse:1.91345\n",
            "[8]\tvalidation_0-rmse:1.83223\tvalidation_1-rmse:1.8461\n",
            "[9]\tvalidation_0-rmse:1.77303\tvalidation_1-rmse:1.78725\n",
            "[10]\tvalidation_0-rmse:1.72432\tvalidation_1-rmse:1.73864\n",
            "[11]\tvalidation_0-rmse:1.68204\tvalidation_1-rmse:1.69637\n",
            "[12]\tvalidation_0-rmse:1.64451\tvalidation_1-rmse:1.65917\n",
            "[13]\tvalidation_0-rmse:1.61379\tvalidation_1-rmse:1.62841\n",
            "[14]\tvalidation_0-rmse:1.58661\tvalidation_1-rmse:1.60139\n",
            "[15]\tvalidation_0-rmse:1.56209\tvalidation_1-rmse:1.57713\n",
            "[16]\tvalidation_0-rmse:1.54231\tvalidation_1-rmse:1.55738\n",
            "[17]\tvalidation_0-rmse:1.52306\tvalidation_1-rmse:1.53834\n",
            "[18]\tvalidation_0-rmse:1.50602\tvalidation_1-rmse:1.52129\n",
            "[19]\tvalidation_0-rmse:1.49274\tvalidation_1-rmse:1.50807\n",
            "[20]\tvalidation_0-rmse:1.48083\tvalidation_1-rmse:1.49645\n",
            "[21]\tvalidation_0-rmse:1.47093\tvalidation_1-rmse:1.48675\n",
            "[22]\tvalidation_0-rmse:1.46234\tvalidation_1-rmse:1.47842\n",
            "[23]\tvalidation_0-rmse:1.45261\tvalidation_1-rmse:1.46873\n",
            "[24]\tvalidation_0-rmse:1.44524\tvalidation_1-rmse:1.46158\n",
            "[25]\tvalidation_0-rmse:1.4385\tvalidation_1-rmse:1.45518\n",
            "[26]\tvalidation_0-rmse:1.43183\tvalidation_1-rmse:1.44864\n",
            "[27]\tvalidation_0-rmse:1.42663\tvalidation_1-rmse:1.44351\n",
            "[28]\tvalidation_0-rmse:1.42073\tvalidation_1-rmse:1.43816\n",
            "[29]\tvalidation_0-rmse:1.41679\tvalidation_1-rmse:1.4345\n",
            "[30]\tvalidation_0-rmse:1.41246\tvalidation_1-rmse:1.4303\n",
            "[31]\tvalidation_0-rmse:1.40846\tvalidation_1-rmse:1.42666\n",
            "[32]\tvalidation_0-rmse:1.40503\tvalidation_1-rmse:1.42337\n",
            "[33]\tvalidation_0-rmse:1.40077\tvalidation_1-rmse:1.41936\n",
            "[34]\tvalidation_0-rmse:1.39793\tvalidation_1-rmse:1.41678\n",
            "[35]\tvalidation_0-rmse:1.39575\tvalidation_1-rmse:1.41501\n",
            "[36]\tvalidation_0-rmse:1.3931\tvalidation_1-rmse:1.41275\n",
            "[37]\tvalidation_0-rmse:1.39016\tvalidation_1-rmse:1.41011\n",
            "[38]\tvalidation_0-rmse:1.38672\tvalidation_1-rmse:1.40696\n",
            "[39]\tvalidation_0-rmse:1.38444\tvalidation_1-rmse:1.40487\n",
            "[40]\tvalidation_0-rmse:1.38176\tvalidation_1-rmse:1.40246\n",
            "[41]\tvalidation_0-rmse:1.37956\tvalidation_1-rmse:1.40057\n",
            "[42]\tvalidation_0-rmse:1.37724\tvalidation_1-rmse:1.39852\n",
            "[43]\tvalidation_0-rmse:1.37579\tvalidation_1-rmse:1.39732\n",
            "[44]\tvalidation_0-rmse:1.3737\tvalidation_1-rmse:1.39539\n",
            "[45]\tvalidation_0-rmse:1.37212\tvalidation_1-rmse:1.39413\n",
            "[46]\tvalidation_0-rmse:1.37006\tvalidation_1-rmse:1.39225\n",
            "[47]\tvalidation_0-rmse:1.36804\tvalidation_1-rmse:1.39043\n",
            "[48]\tvalidation_0-rmse:1.36608\tvalidation_1-rmse:1.38851\n",
            "[49]\tvalidation_0-rmse:1.3634\tvalidation_1-rmse:1.38584\n",
            "[50]\tvalidation_0-rmse:1.36115\tvalidation_1-rmse:1.38372\n",
            "[51]\tvalidation_0-rmse:1.35982\tvalidation_1-rmse:1.38267\n",
            "[52]\tvalidation_0-rmse:1.35786\tvalidation_1-rmse:1.38104\n",
            "[53]\tvalidation_0-rmse:1.35653\tvalidation_1-rmse:1.37995\n",
            "[54]\tvalidation_0-rmse:1.35395\tvalidation_1-rmse:1.37774\n",
            "[55]\tvalidation_0-rmse:1.35219\tvalidation_1-rmse:1.37634\n",
            "[56]\tvalidation_0-rmse:1.35056\tvalidation_1-rmse:1.37489\n",
            "[57]\tvalidation_0-rmse:1.34924\tvalidation_1-rmse:1.37373\n",
            "[58]\tvalidation_0-rmse:1.34831\tvalidation_1-rmse:1.37308\n",
            "[59]\tvalidation_0-rmse:1.34694\tvalidation_1-rmse:1.37178\n",
            "[60]\tvalidation_0-rmse:1.34576\tvalidation_1-rmse:1.37079\n",
            "[61]\tvalidation_0-rmse:1.34437\tvalidation_1-rmse:1.36958\n",
            "[62]\tvalidation_0-rmse:1.34176\tvalidation_1-rmse:1.36711\n",
            "[63]\tvalidation_0-rmse:1.34061\tvalidation_1-rmse:1.36616\n",
            "[64]\tvalidation_0-rmse:1.33854\tvalidation_1-rmse:1.36418\n",
            "[65]\tvalidation_0-rmse:1.33788\tvalidation_1-rmse:1.36376\n",
            "[66]\tvalidation_0-rmse:1.33679\tvalidation_1-rmse:1.36294\n",
            "[67]\tvalidation_0-rmse:1.33567\tvalidation_1-rmse:1.36195\n",
            "[68]\tvalidation_0-rmse:1.33474\tvalidation_1-rmse:1.36125\n",
            "[69]\tvalidation_0-rmse:1.33388\tvalidation_1-rmse:1.36072\n",
            "[70]\tvalidation_0-rmse:1.33256\tvalidation_1-rmse:1.35978\n",
            "[71]\tvalidation_0-rmse:1.33125\tvalidation_1-rmse:1.35882\n",
            "[72]\tvalidation_0-rmse:1.32986\tvalidation_1-rmse:1.35767\n",
            "[73]\tvalidation_0-rmse:1.32879\tvalidation_1-rmse:1.35682\n",
            "[74]\tvalidation_0-rmse:1.32753\tvalidation_1-rmse:1.35584\n",
            "[75]\tvalidation_0-rmse:1.32634\tvalidation_1-rmse:1.35489\n",
            "[76]\tvalidation_0-rmse:1.32563\tvalidation_1-rmse:1.35448\n",
            "[77]\tvalidation_0-rmse:1.32484\tvalidation_1-rmse:1.35396\n",
            "[78]\tvalidation_0-rmse:1.32373\tvalidation_1-rmse:1.35313\n",
            "[79]\tvalidation_0-rmse:1.32223\tvalidation_1-rmse:1.3521\n",
            "[80]\tvalidation_0-rmse:1.32169\tvalidation_1-rmse:1.35173\n",
            "[81]\tvalidation_0-rmse:1.32043\tvalidation_1-rmse:1.35077\n",
            "[82]\tvalidation_0-rmse:1.31978\tvalidation_1-rmse:1.35041\n",
            "[83]\tvalidation_0-rmse:1.31882\tvalidation_1-rmse:1.3497\n",
            "[84]\tvalidation_0-rmse:1.31789\tvalidation_1-rmse:1.34895\n",
            "[85]\tvalidation_0-rmse:1.31716\tvalidation_1-rmse:1.34853\n",
            "[86]\tvalidation_0-rmse:1.31656\tvalidation_1-rmse:1.34821\n",
            "[87]\tvalidation_0-rmse:1.31536\tvalidation_1-rmse:1.34746\n",
            "[88]\tvalidation_0-rmse:1.31459\tvalidation_1-rmse:1.34678\n",
            "[89]\tvalidation_0-rmse:1.31402\tvalidation_1-rmse:1.34651\n",
            "[90]\tvalidation_0-rmse:1.31322\tvalidation_1-rmse:1.34589\n",
            "[91]\tvalidation_0-rmse:1.31253\tvalidation_1-rmse:1.34529\n",
            "[92]\tvalidation_0-rmse:1.31159\tvalidation_1-rmse:1.3447\n",
            "[93]\tvalidation_0-rmse:1.31104\tvalidation_1-rmse:1.34441\n",
            "[94]\tvalidation_0-rmse:1.31065\tvalidation_1-rmse:1.34426\n",
            "[95]\tvalidation_0-rmse:1.3098\tvalidation_1-rmse:1.34372\n",
            "[96]\tvalidation_0-rmse:1.30841\tvalidation_1-rmse:1.34262\n",
            "[97]\tvalidation_0-rmse:1.30705\tvalidation_1-rmse:1.34161\n",
            "[98]\tvalidation_0-rmse:1.30659\tvalidation_1-rmse:1.34143\n",
            "[99]\tvalidation_0-rmse:1.3063\tvalidation_1-rmse:1.34127\n"
          ],
          "name": "stdout"
        },
        {
          "output_type": "execute_result",
          "data": {
            "text/plain": [
              "XGBRegressor(base_score=0.5, booster='gbtree', colsample_bylevel=1,\n",
              "             colsample_bynode=1, colsample_bytree=1, gamma=0,\n",
              "             importance_type='gain', learning_rate=0.1, max_delta_step=0,\n",
              "             max_depth=7, min_child_weight=1, missing=None, n_estimators=100,\n",
              "             n_jobs=1, nthread=None, objective='reg:squarederror',\n",
              "             random_state=0, reg_alpha=0, reg_lambda=1, scale_pos_weight=1,\n",
              "             seed=None, silent=None, subsample=1, verbosity=1)"
            ]
          },
          "metadata": {
            "tags": []
          },
          "execution_count": 20
        }
      ]
    },
    {
      "cell_type": "code",
      "metadata": {
        "id": "pD1OZn3jbBrY",
        "colab_type": "code",
        "colab": {}
      },
      "source": [
        "X_test = train.drop(['item_cnt_month'], axis=1)\n",
        "predictions=reg.predict(X_test)\n",
        "preds = pd.DataFrame(predictions, columns=['item_cnt_month'])\n",
        "preds.to_csv('submissionB.csv',index_label='ID')"
      ],
      "execution_count": 0,
      "outputs": []
    },
    {
      "cell_type": "code",
      "metadata": {
        "id": "zLYOwfn57rcj",
        "colab_type": "code",
        "colab": {
          "base_uri": "https://localhost:8080/",
          "height": 295
        },
        "outputId": "35bb73b6-53a5-469a-f635-f4ff116da680"
      },
      "source": [
        "plot_importance(reg)\n",
        "plt.show()"
      ],
      "execution_count": 97,
      "outputs": [
        {
          "output_type": "display_data",
          "data": {
            "image/png": "[encoded data removed]",
            "text/plain": [
              "<Figure size 432x288 with 1 Axes>"
            ]
          },
          "metadata": {
            "tags": [],
            "needs_background": "light"
          }
        }
      ]
    },
    {
      "cell_type": "markdown",
      "metadata": {
        "id": "XAGlHTaDuAeU",
        "colab_type": "text"
      },
      "source": [
        "In the graph we can see that the most information is held in the item_id field. As was expected, the sales from the previous month are more relevent than other previous sales.\n",
        "The fact that item_month_avg is ranked so high tells us there is a strong seasonality factor in sales."
      ]
    },
    {
      "cell_type": "code",
      "metadata": {
        "id": "lCWAEnaKo8J3",
        "colab_type": "code",
        "colab": {
          "base_uri": "https://localhost:8080/",
          "height": 127
        },
        "outputId": "71605888-6202-4f6b-c34f-be521ad7ad6a"
      },
      "source": [
        "train = sales.query('date_block_num < 34')\n",
        "test = sales.query('date_block_num == 34')\n",
        "X = train.drop(['item_cnt_month'], axis=1)\n",
        "y = train['item_cnt_month']\n",
        "\n",
        "X_train, X_val, y_train, y_val = train_test_split(X, y, test_size=0.2)\n",
        "del X\n",
        "del y\n",
        "\n",
        "X_train.columns.values"
      ],
      "execution_count": 96,
      "outputs": [
        {
          "output_type": "execute_result",
          "data": {
            "text/plain": [
              "array(['date_block_num', 'shop_id', 'item_id', 'month', 'year',\n",
              "       'item_category_id', 'city', 'item_cnt_month_lag_1',\n",
              "       'item_cnt_month_lag_2', 'item_cnt_month_lag_3',\n",
              "       'item_cnt_month_lag_6', 'item_cnt_month_lag_12', 'shop_month_avg',\n",
              "       'item_month_avg', 'city_cat_month_avg', 'shop-cat-month'],\n",
              "      dtype=object)"
            ]
          },
          "metadata": {
            "tags": []
          },
          "execution_count": 96
        }
      ]
    },
    {
      "cell_type": "markdown",
      "metadata": {
        "id": "O7ZZoYd1ueME",
        "colab_type": "text"
      },
      "source": [
        "# 3.c\n",
        "Even though our dataframe holds up a lot of information we can use, let's see how a pure embedding-based ANN model will perform."
      ]
    },
    {
      "cell_type": "code",
      "metadata": {
        "id": "vkKT4AhAl68S",
        "colab_type": "code",
        "colab": {}
      },
      "source": [
        "shop_inp = Input(shape=(1,),dtype='float64')\n",
        "item_inp = Input(shape=(1,),dtype='float64')\n",
        "item_cat_inp = Input(shape=(1,),dtype='float64')\n",
        "city_inp = Input(shape=(1,),dtype='float64')\n",
        "month_inp = Input(shape=(1,),dtype='float64')\n",
        "year_inp = Input(shape=(1,),dtype='float64')\n",
        "\n",
        "shop_emb = Embedding(len(sales['shop_id'].unique()), 8, input_length=1, embeddings_regularizer=l2(1e-6))(shop_inp)\n",
        "item_emb = Embedding(len(sales['item_id'].unique()), 50, input_length=1, embeddings_regularizer=l2(1e-6))(item_inp)\n",
        "item_cat_emb = Embedding(len(sales['item_category_id'].unique()), 9, input_length=1, embeddings_regularizer=l2(1e-6))(item_cat_inp)\n",
        "city_emb = Embedding(len(sales['city'].unique()), 6, input_length=1, embeddings_regularizer=l2(1e-6))(city_inp)\n",
        "month_emb = Embedding(len(sales['month'].unique()), 4, input_length=1, embeddings_regularizer=l2(1e-6))(month_inp)\n",
        "year_emb = Embedding(len(sales['year'].unique()), 2, input_length=1, embeddings_regularizer=l2(1e-6))(year_inp)"
      ],
      "execution_count": 0,
      "outputs": []
    },
    {
      "cell_type": "code",
      "metadata": {
        "id": "EYJlO7EpnLfI",
        "colab_type": "code",
        "colab": {
          "base_uri": "https://localhost:8080/",
          "height": 1000
        },
        "outputId": "dd405759-9914-45ff-8441-ddf0a7a182dd"
      },
      "source": [
        "x = concatenate([shop_emb, item_emb, item_cat_emb, city_emb, month_emb, year_emb])\n",
        "x = Flatten()(x)\n",
        "x = BatchNormalization()(x)\n",
        "x = Dense(10, activation='relu')(x)\n",
        "x = BatchNormalization()(x)\n",
        "x = Dense(10, activation='relu')(x)\n",
        "x = Dropout(0.4)(x)\n",
        "x = BatchNormalization()(x)\n",
        "x = Dense(10, activation='relu')(x)\n",
        "x = BatchNormalization()(x)\n",
        "x = Dense(10, activation='relu')(x)\n",
        "x = Dropout(0.7)(x)\n",
        "x = BatchNormalization()(x)\n",
        "x = Dense(1, activation='relu')(x)\n",
        "\n",
        "nn_model = Model([shop_inp, item_inp, item_cat_inp, city_inp, month_inp, year_inp], x)\n",
        "\n",
        "nn_model.compile(loss=root_mean_squared_error ,optimizer='Adam')\n",
        "\n",
        "nn_model.summary()"
      ],
      "execution_count": 113,
      "outputs": [
        {
          "output_type": "stream",
          "text": [
            "Model: \"model_5\"\n",
            "__________________________________________________________________________________________________\n",
            "Layer (type)                    Output Shape         Param #     Connected to                     \n",
            "==================================================================================================\n",
            "input_71 (InputLayer)           (None, 1)            0                                            \n",
            "__________________________________________________________________________________________________\n",
            "input_72 (InputLayer)           (None, 1)            0                                            \n",
            "__________________________________________________________________________________________________\n",
            "input_73 (InputLayer)           (None, 1)            0                                            \n",
            "__________________________________________________________________________________________________\n",
            "input_74 (InputLayer)           (None, 1)            0                                            \n",
            "__________________________________________________________________________________________________\n",
            "input_75 (InputLayer)           (None, 1)            0                                            \n",
            "__________________________________________________________________________________________________\n",
            "input_76 (InputLayer)           (None, 1)            0                                            \n",
            "__________________________________________________________________________________________________\n",
            "embedding_53 (Embedding)        (None, 1, 8)         480         input_71[0][0]                   \n",
            "__________________________________________________________________________________________________\n",
            "embedding_54 (Embedding)        (None, 1, 50)        1108300     input_72[0][0]                   \n",
            "__________________________________________________________________________________________________\n",
            "embedding_55 (Embedding)        (None, 1, 9)         756         input_73[0][0]                   \n",
            "__________________________________________________________________________________________________\n",
            "embedding_56 (Embedding)        (None, 1, 6)         192         input_74[0][0]                   \n",
            "__________________________________________________________________________________________________\n",
            "embedding_57 (Embedding)        (None, 1, 4)         48          input_75[0][0]                   \n",
            "__________________________________________________________________________________________________\n",
            "embedding_58 (Embedding)        (None, 1, 2)         6           input_76[0][0]                   \n",
            "__________________________________________________________________________________________________\n",
            "concatenate_11 (Concatenate)    (None, 1, 79)        0           embedding_53[0][0]               \n",
            "                                                                 embedding_54[0][0]               \n",
            "                                                                 embedding_55[0][0]               \n",
            "                                                                 embedding_56[0][0]               \n",
            "                                                                 embedding_57[0][0]               \n",
            "                                                                 embedding_58[0][0]               \n",
            "__________________________________________________________________________________________________\n",
            "flatten_15 (Flatten)            (None, 79)           0           concatenate_11[0][0]             \n",
            "__________________________________________________________________________________________________\n",
            "batch_normalization_21 (BatchNo (None, 79)           316         flatten_15[0][0]                 \n",
            "__________________________________________________________________________________________________\n",
            "dense_21 (Dense)                (None, 10)           800         batch_normalization_21[0][0]     \n",
            "__________________________________________________________________________________________________\n",
            "batch_normalization_22 (BatchNo (None, 10)           40          dense_21[0][0]                   \n",
            "__________________________________________________________________________________________________\n",
            "dense_22 (Dense)                (None, 10)           110         batch_normalization_22[0][0]     \n",
            "__________________________________________________________________________________________________\n",
            "dropout_9 (Dropout)             (None, 10)           0           dense_22[0][0]                   \n",
            "__________________________________________________________________________________________________\n",
            "batch_normalization_23 (BatchNo (None, 10)           40          dropout_9[0][0]                  \n",
            "__________________________________________________________________________________________________\n",
            "dense_23 (Dense)                (None, 10)           110         batch_normalization_23[0][0]     \n",
            "__________________________________________________________________________________________________\n",
            "batch_normalization_24 (BatchNo (None, 10)           40          dense_23[0][0]                   \n",
            "__________________________________________________________________________________________________\n",
            "dense_24 (Dense)                (None, 10)           110         batch_normalization_24[0][0]     \n",
            "__________________________________________________________________________________________________\n",
            "dropout_10 (Dropout)            (None, 10)           0           dense_24[0][0]                   \n",
            "__________________________________________________________________________________________________\n",
            "batch_normalization_25 (BatchNo (None, 10)           40          dropout_10[0][0]                 \n",
            "__________________________________________________________________________________________________\n",
            "dense_25 (Dense)                (None, 1)            11          batch_normalization_25[0][0]     \n",
            "==================================================================================================\n",
            "Total params: 1,111,399\n",
            "Trainable params: 1,111,161\n",
            "Non-trainable params: 238\n",
            "__________________________________________________________________________________________________\n"
          ],
          "name": "stdout"
        }
      ]
    },
    {
      "cell_type": "code",
      "metadata": {
        "id": "Xc-cj_F831-d",
        "colab_type": "code",
        "colab": {
          "base_uri": "https://localhost:8080/",
          "height": 958
        },
        "outputId": "848521ae-aa45-4f6a-ef57-302f5afffafd"
      },
      "source": [
        "history = nn_model.fit([X_train['shop_id'], X_train['item_id'], X_train['item_category_id'], \n",
        "                        X_train['city'], X_train['month'], X_train['year']],y_train,epochs=15,\n",
        "                 validation_data=[[X_val['shop_id'], X_val['item_id'], X_val['item_category_id'], \n",
        "                        X_val['city'], X_val['month'], X_val['year']],y_val],batch_size = 1024, callbacks=set_callbacks())\n",
        "plot_history(history)"
      ],
      "execution_count": 99,
      "outputs": [
        {
          "output_type": "stream",
          "text": [
            "/usr/local/lib/python3.6/dist-packages/tensorflow/python/framework/indexed_slices.py:434: UserWarning: Converting sparse IndexedSlices to a dense Tensor of unknown shape. This may consume a large amount of memory.\n",
            "  \"Converting sparse IndexedSlices to a dense Tensor of unknown shape. \"\n"
          ],
          "name": "stderr"
        },
        {
          "output_type": "stream",
          "text": [
            "Train on 1286580 samples, validate on 321645 samples\n",
            "Epoch 1/15\n",
            "  12288/1286580 [..............................] - ETA: 2:34 - loss: 3.1338"
          ],
          "name": "stdout"
        },
        {
          "output_type": "stream",
          "text": [
            "/usr/local/lib/python3.6/dist-packages/keras/callbacks/callbacks.py:95: RuntimeWarning: Method (on_train_batch_end) is slow compared to the batch update (0.148573). Check your callbacks.\n",
            "  % (hook_name, delta_t_median), RuntimeWarning)\n"
          ],
          "name": "stderr"
        },
        {
          "output_type": "stream",
          "text": [
            "1286580/1286580 [==============================] - 28s 22us/step - loss: 2.5732 - val_loss: 2.3773\n",
            "Epoch 2/15\n",
            "1286580/1286580 [==============================] - 26s 20us/step - loss: 2.3991 - val_loss: 2.3192\n",
            "Epoch 3/15\n",
            "1286580/1286580 [==============================] - 27s 21us/step - loss: 2.3469 - val_loss: 2.2214\n",
            "Epoch 4/15\n",
            "1286580/1286580 [==============================] - 26s 20us/step - loss: 2.3218 - val_loss: 2.1833\n",
            "Epoch 5/15\n",
            "1286580/1286580 [==============================] - 26s 20us/step - loss: 2.2967 - val_loss: 2.1098\n",
            "Epoch 6/15\n",
            "1286580/1286580 [==============================] - 26s 20us/step - loss: 2.2720 - val_loss: 2.0991\n",
            "Epoch 7/15\n",
            "1286580/1286580 [==============================] - 26s 20us/step - loss: 2.2485 - val_loss: 2.0738\n",
            "Epoch 8/15\n",
            "1286580/1286580 [==============================] - 26s 20us/step - loss: 2.2362 - val_loss: 2.0908\n",
            "Epoch 9/15\n",
            "1286580/1286580 [==============================] - 26s 20us/step - loss: 2.2212 - val_loss: 2.0436\n",
            "Epoch 10/15\n",
            "1286580/1286580 [==============================] - 26s 20us/step - loss: 2.2160 - val_loss: 1.9991\n",
            "Epoch 11/15\n",
            "1286580/1286580 [==============================] - 26s 20us/step - loss: 2.2096 - val_loss: 2.0081\n",
            "Epoch 12/15\n",
            "1286580/1286580 [==============================] - 26s 20us/step - loss: 2.2099 - val_loss: 1.9931\n",
            "Epoch 13/15\n",
            "1286580/1286580 [==============================] - 26s 20us/step - loss: 2.2066 - val_loss: 1.9853\n",
            "Epoch 14/15\n",
            "1286580/1286580 [==============================] - 26s 20us/step - loss: 2.1969 - val_loss: 2.0130\n",
            "Epoch 15/15\n",
            "1286580/1286580 [==============================] - 26s 20us/step - loss: 2.1908 - val_loss: 1.9808\n"
          ],
          "name": "stdout"
        },
        {
          "output_type": "display_data",
          "data": {
            "image/png": "[encoded data removed]",
            "text/plain": [
              "<Figure size 432x288 with 1 Axes>"
            ]
          },
          "metadata": {
            "tags": [],
            "needs_background": "light"
          }
        }
      ]
    },
    {
      "cell_type": "markdown",
      "metadata": {
        "id": "ESqfN5jWuua_",
        "colab_type": "text"
      },
      "source": [
        "The XGBoost model was far superior. This is probably due to the fact it was using a lot more information that is available.\n",
        "\n",
        "Embedding was created for the following: shop, item, item category, city, month and year."
      ]
    },
    {
      "cell_type": "code",
      "metadata": {
        "id": "hIF0Zy9b95Zu",
        "colab_type": "code",
        "colab": {}
      },
      "source": [
        "X_test = [test['shop_id'], test['item_id'], test['item_category_id'], \n",
        "                        test['city'], test['month'], test['year']]\n",
        "predictions=nn_model.predict(X_test)\n",
        "preds = pd.DataFrame(predictions, columns=['item_cnt_month'])\n",
        "preds.to_csv('submissionC.csv',index_label='ID')"
      ],
      "execution_count": 0,
      "outputs": []
    },
    {
      "cell_type": "markdown",
      "metadata": {
        "id": "JhJ38IbpvPyE",
        "colab_type": "text"
      },
      "source": [
        "# 3.d\n",
        "Now let's put to use the extra information we have engineered."
      ]
    },
    {
      "cell_type": "code",
      "metadata": {
        "id": "124fqwMV_QWa",
        "colab_type": "code",
        "colab": {}
      },
      "source": [
        "shop_inp = Input(shape=(1,),dtype='int32')\n",
        "item_inp = Input(shape=(1,),dtype='int32')\n",
        "item_cat_inp = Input(shape=(1,),dtype='int32')\n",
        "city_inp = Input(shape=(1,),dtype='int32')\n",
        "month_inp = Input(shape=(1,),dtype='int32')\n",
        "year_inp = Input(shape=(1,),dtype='int16')\n",
        "\n",
        "\n",
        "lag1 = Input(shape=(1,), dtype='float32')\n",
        "lag2 = Input(shape=(1,), dtype='float32')\n",
        "lag3 = Input(shape=(1,), dtype='float32')\n",
        "lag6 = Input(shape=(1,), dtype='float32')\n",
        "lag12 = Input(shape=(1,), dtype='float32')\n",
        "\n",
        "shop_month_avg = Input(shape=(1,), dtype='float32')\n",
        "item_month_avg = Input(shape=(1,), dtype='float32')\n",
        "city_cat_month_avg = Input(shape=(1,), dtype='float32')\n",
        "shop_cat_month_avg = Input(shape=(1,), dtype='float32')\n",
        "\n",
        "\n",
        "shop_emb = Embedding(len(sales['shop_id'].unique()), 8, input_length=1, embeddings_regularizer=l2(1e-6))(shop_inp)\n",
        "item_emb = Embedding(len(sales['item_id'].unique()), 50, input_length=1, embeddings_regularizer=l2(1e-6))(item_inp)\n",
        "item_cat_emb = Embedding(len(sales['item_category_id'].unique()), 9, input_length=1, embeddings_regularizer=l2(1e-6))(item_cat_inp)\n",
        "city_emb = Embedding(len(sales['city'].unique()), 6, input_length=1, embeddings_regularizer=l2(1e-6))(city_inp)\n",
        "month_emb = Embedding(len(sales['month'].unique()), 4, input_length=1, embeddings_regularizer=l2(1e-6))(month_inp)\n",
        "year_emb = Embedding(len(sales['year'].unique()), 2, input_length=1, embeddings_regularizer=l2(1e-6))(year_inp)\n",
        "\n",
        "\n",
        "shop_emb = Reshape((8,))(shop_emb)\n",
        "item_emb = Reshape((50,))(item_emb)\n",
        "item_cat_emb = Reshape((9,))(item_cat_emb)\n",
        "city_emb = Reshape((6,))(city_emb)\n",
        "month_emb = Reshape((4,))(month_emb)\n",
        "year_emb = Reshape((2,))(year_emb)\n"
      ],
      "execution_count": 0,
      "outputs": []
    },
    {
      "cell_type": "code",
      "metadata": {
        "id": "x1mHCRqiDNxj",
        "colab_type": "code",
        "colab": {
          "base_uri": "https://localhost:8080/",
          "height": 1000
        },
        "outputId": "217711b0-0191-4acb-b494-f5ca3f93ee75"
      },
      "source": [
        "x = concatenate([shop_emb, item_emb, item_cat_emb, city_emb, month_emb,\n",
        "                 year_emb,\n",
        "                 lag1, lag2, lag3, lag6, lag12, shop_month_avg,\n",
        "                 item_month_avg, city_cat_month_avg, shop_cat_month_avg\n",
        "                 ])\n",
        "\n",
        "\n",
        "x = BatchNormalization()(x)\n",
        "x = Dense(10, activation='relu')(x)\n",
        "x = BatchNormalization()(x)\n",
        "x = Dropout(0.4)(x)\n",
        "x = BatchNormalization()(x)\n",
        "x = Dense(10, activation='relu')(x)\n",
        "x = Dense(10, activation='relu')(x)\n",
        "x = Dropout(0.7)(x)\n",
        "x = BatchNormalization()(x)\n",
        "\n",
        "x = Dense(1, activation='relu')(x)\n",
        "\n",
        "nn_model = Model([shop_inp, item_inp, item_cat_inp, city_inp, month_inp,\n",
        "                  year_inp, lag1, lag2, lag3, lag6, lag12, shop_month_avg,\n",
        "                  item_month_avg, city_cat_month_avg ,shop_cat_month_avg], x)\n",
        "\n",
        "nn_model.compile(loss=root_mean_squared_error ,optimizer='Adam')\n",
        "\n",
        "nn_model.summary()"
      ],
      "execution_count": 17,
      "outputs": [
        {
          "output_type": "stream",
          "text": [
            "Model: \"model_1\"\n",
            "__________________________________________________________________________________________________\n",
            "Layer (type)                    Output Shape         Param #     Connected to                     \n",
            "==================================================================================================\n",
            "input_1 (InputLayer)            (None, 1)            0                                            \n",
            "__________________________________________________________________________________________________\n",
            "input_2 (InputLayer)            (None, 1)            0                                            \n",
            "__________________________________________________________________________________________________\n",
            "input_3 (InputLayer)            (None, 1)            0                                            \n",
            "__________________________________________________________________________________________________\n",
            "input_4 (InputLayer)            (None, 1)            0                                            \n",
            "__________________________________________________________________________________________________\n",
            "input_5 (InputLayer)            (None, 1)            0                                            \n",
            "__________________________________________________________________________________________________\n",
            "input_6 (InputLayer)            (None, 1)            0                                            \n",
            "__________________________________________________________________________________________________\n",
            "embedding_1 (Embedding)         (None, 1, 8)         480         input_1[0][0]                    \n",
            "__________________________________________________________________________________________________\n",
            "embedding_2 (Embedding)         (None, 1, 50)        1108300     input_2[0][0]                    \n",
            "__________________________________________________________________________________________________\n",
            "embedding_3 (Embedding)         (None, 1, 9)         756         input_3[0][0]                    \n",
            "__________________________________________________________________________________________________\n",
            "embedding_4 (Embedding)         (None, 1, 6)         192         input_4[0][0]                    \n",
            "__________________________________________________________________________________________________\n",
            "embedding_5 (Embedding)         (None, 1, 4)         48          input_5[0][0]                    \n",
            "__________________________________________________________________________________________________\n",
            "embedding_6 (Embedding)         (None, 1, 2)         6           input_6[0][0]                    \n",
            "__________________________________________________________________________________________________\n",
            "reshape_1 (Reshape)             (None, 8)            0           embedding_1[0][0]                \n",
            "__________________________________________________________________________________________________\n",
            "reshape_2 (Reshape)             (None, 50)           0           embedding_2[0][0]                \n",
            "__________________________________________________________________________________________________\n",
            "reshape_3 (Reshape)             (None, 9)            0           embedding_3[0][0]                \n",
            "__________________________________________________________________________________________________\n",
            "reshape_4 (Reshape)             (None, 6)            0           embedding_4[0][0]                \n",
            "__________________________________________________________________________________________________\n",
            "reshape_5 (Reshape)             (None, 4)            0           embedding_5[0][0]                \n",
            "__________________________________________________________________________________________________\n",
            "reshape_6 (Reshape)             (None, 2)            0           embedding_6[0][0]                \n",
            "__________________________________________________________________________________________________\n",
            "input_7 (InputLayer)            (None, 1)            0                                            \n",
            "__________________________________________________________________________________________________\n",
            "input_8 (InputLayer)            (None, 1)            0                                            \n",
            "__________________________________________________________________________________________________\n",
            "input_9 (InputLayer)            (None, 1)            0                                            \n",
            "__________________________________________________________________________________________________\n",
            "input_10 (InputLayer)           (None, 1)            0                                            \n",
            "__________________________________________________________________________________________________\n",
            "input_11 (InputLayer)           (None, 1)            0                                            \n",
            "__________________________________________________________________________________________________\n",
            "input_12 (InputLayer)           (None, 1)            0                                            \n",
            "__________________________________________________________________________________________________\n",
            "input_13 (InputLayer)           (None, 1)            0                                            \n",
            "__________________________________________________________________________________________________\n",
            "input_14 (InputLayer)           (None, 1)            0                                            \n",
            "__________________________________________________________________________________________________\n",
            "input_15 (InputLayer)           (None, 1)            0                                            \n",
            "__________________________________________________________________________________________________\n",
            "concatenate_1 (Concatenate)     (None, 88)           0           reshape_1[0][0]                  \n",
            "                                                                 reshape_2[0][0]                  \n",
            "                                                                 reshape_3[0][0]                  \n",
            "                                                                 reshape_4[0][0]                  \n",
            "                                                                 reshape_5[0][0]                  \n",
            "                                                                 reshape_6[0][0]                  \n",
            "                                                                 input_7[0][0]                    \n",
            "                                                                 input_8[0][0]                    \n",
            "                                                                 input_9[0][0]                    \n",
            "                                                                 input_10[0][0]                   \n",
            "                                                                 input_11[0][0]                   \n",
            "                                                                 input_12[0][0]                   \n",
            "                                                                 input_13[0][0]                   \n",
            "                                                                 input_14[0][0]                   \n",
            "                                                                 input_15[0][0]                   \n",
            "__________________________________________________________________________________________________\n",
            "batch_normalization_1 (BatchNor (None, 88)           352         concatenate_1[0][0]              \n",
            "__________________________________________________________________________________________________\n",
            "dense_1 (Dense)                 (None, 10)           890         batch_normalization_1[0][0]      \n",
            "__________________________________________________________________________________________________\n",
            "batch_normalization_2 (BatchNor (None, 10)           40          dense_1[0][0]                    \n",
            "__________________________________________________________________________________________________\n",
            "dropout_1 (Dropout)             (None, 10)           0           batch_normalization_2[0][0]      \n",
            "__________________________________________________________________________________________________\n",
            "batch_normalization_3 (BatchNor (None, 10)           40          dropout_1[0][0]                  \n",
            "__________________________________________________________________________________________________\n",
            "dense_2 (Dense)                 (None, 10)           110         batch_normalization_3[0][0]      \n",
            "__________________________________________________________________________________________________\n",
            "dense_3 (Dense)                 (None, 10)           110         dense_2[0][0]                    \n",
            "__________________________________________________________________________________________________\n",
            "dropout_2 (Dropout)             (None, 10)           0           dense_3[0][0]                    \n",
            "__________________________________________________________________________________________________\n",
            "batch_normalization_4 (BatchNor (None, 10)           40          dropout_2[0][0]                  \n",
            "__________________________________________________________________________________________________\n",
            "dense_4 (Dense)                 (None, 1)            11          batch_normalization_4[0][0]      \n",
            "==================================================================================================\n",
            "Total params: 1,111,375\n",
            "Trainable params: 1,111,139\n",
            "Non-trainable params: 236\n",
            "__________________________________________________________________________________________________\n"
          ],
          "name": "stdout"
        }
      ]
    },
    {
      "cell_type": "code",
      "metadata": {
        "id": "UgoNcpoBL6aq",
        "colab_type": "code",
        "colab": {
          "base_uri": "https://localhost:8080/",
          "height": 737
        },
        "outputId": "097825a3-8034-4911-b8c4-1355e26c4440"
      },
      "source": [
        "features = ['shop_id', 'item_id', 'item_category_id', 'city', 'month', 'year',\n",
        "            'item_cnt_month_lag_1', 'item_cnt_month_lag_2', 'item_cnt_month_lag_3',\n",
        "            'item_cnt_month_lag_6', 'item_cnt_month_lag_12', 'shop_month_avg',\n",
        "            'item_month_avg', 'city_cat_month_avg', 'shop-cat-month']\n",
        "\n",
        "history = nn_model.fit([X_train[feature] for feature in features],y_train,epochs=30,\n",
        "                 validation_data=[[X_val[feature] for feature in features], y_val],\n",
        "                 batch_size = 1024, callbacks=set_callbacks())\n",
        "plot_history(history)"
      ],
      "execution_count": 18,
      "outputs": [
        {
          "output_type": "stream",
          "text": [
            "/usr/local/lib/python3.6/dist-packages/tensorflow/python/framework/indexed_slices.py:434: UserWarning: Converting sparse IndexedSlices to a dense Tensor of unknown shape. This may consume a large amount of memory.\n",
            "  \"Converting sparse IndexedSlices to a dense Tensor of unknown shape. \"\n"
          ],
          "name": "stderr"
        },
        {
          "output_type": "stream",
          "text": [
            "Train on 1286580 samples, validate on 321645 samples\n",
            "Epoch 1/30\n",
            "1286580/1286580 [==============================] - 19s 15us/step - loss: 2.2802 - val_loss: 1.8965\n",
            "Epoch 2/30\n",
            "1286580/1286580 [==============================] - 17s 13us/step - loss: 2.0798 - val_loss: 1.9150\n",
            "Epoch 3/30\n",
            "1286580/1286580 [==============================] - 17s 13us/step - loss: 2.0543 - val_loss: 1.8492\n",
            "Epoch 4/30\n",
            "1286580/1286580 [==============================] - 17s 13us/step - loss: 2.0362 - val_loss: 1.9099\n",
            "Epoch 5/30\n",
            "1286580/1286580 [==============================] - 17s 13us/step - loss: 2.0326 - val_loss: 1.9205\n",
            "Epoch 6/30\n",
            "1286580/1286580 [==============================] - 17s 14us/step - loss: 2.0322 - val_loss: 1.9226\n",
            "Epoch 7/30\n",
            "1286580/1286580 [==============================] - 17s 13us/step - loss: 2.0213 - val_loss: 1.9139\n",
            "Epoch 8/30\n",
            "1286580/1286580 [==============================] - 17s 13us/step - loss: 2.0173 - val_loss: 1.9023\n",
            "Epoch 9/30\n",
            "1286580/1286580 [==============================] - 17s 13us/step - loss: 2.0182 - val_loss: 1.9037\n",
            "Epoch 10/30\n",
            "1286580/1286580 [==============================] - 16s 13us/step - loss: 2.0206 - val_loss: 1.9037\n"
          ],
          "name": "stdout"
        },
        {
          "output_type": "display_data",
          "data": {
            "image/png": "[encoded data removed]",
            "text/plain": [
              "<Figure size 432x288 with 1 Axes>"
            ]
          },
          "metadata": {
            "tags": [],
            "needs_background": "light"
          }
        }
      ]
    },
    {
      "cell_type": "markdown",
      "metadata": {
        "id": "oy7yD6XTvowK",
        "colab_type": "text"
      },
      "source": [
        "We can see this model performs much better than the previous one, but still not as good as XGBoost. \n",
        "\n",
        "While we wanted to employ an LSTM layer as well, we weren't able to in the given time frame. This is a possible future work."
      ]
    },
    {
      "cell_type": "code",
      "metadata": {
        "id": "8LkVD8SQOvst",
        "colab_type": "code",
        "colab": {}
      },
      "source": [
        "X_test = [test[feature] for feature in features]\n",
        "predictions=nn_model.predict(X_test)\n",
        "preds = pd.DataFrame(predictions, columns=['item_cnt_month'])\n",
        "preds.to_csv('submissionE.csv',index_label='ID')"
      ],
      "execution_count": 0,
      "outputs": []
    },
    {
      "cell_type": "markdown",
      "metadata": {
        "id": "GE5yQHxqHcrw",
        "colab_type": "text"
      },
      "source": [
        "# 3.f - insights regarding embedding\n",
        "\n",
        "Classically, dealing with categorical features has two solutions:\n",
        "1. one-hot encondig. On this data set, encoding the item_id feature, which has thousands of unique categories, would have resulted in a very memory-hungry representation.\n",
        "2. Label encoding, which we employed for the vanilla XGBoost model.\n",
        "\n",
        "Category embedding can be viewed as a compromise between the two. It encodes the category in an embedding space smaller than one-hot, and larger than label encoding. This enables the NN to capture semantic resemblances between different categories. For example, if there are public holidays during May and September which affect sales, the represntation 5 for May, and 9 for september would not show this relationship. An embedding will result in two relatively similar vector representation for those months.\n",
        "\n"
      ]
    },
    {
      "cell_type": "markdown",
      "metadata": {
        "id": "mcTn7cF6TFsS",
        "colab_type": "text"
      },
      "source": [
        "# 3.g"
      ]
    },
    {
      "cell_type": "markdown",
      "metadata": {
        "id": "U9ZfLa2nwe2f",
        "colab_type": "text"
      },
      "source": [
        "Let's use the embedding layers as features for an XGBoost model, and see if we can improve our firdt model's performance"
      ]
    },
    {
      "cell_type": "code",
      "metadata": {
        "id": "nhijkFK0TJI_",
        "colab_type": "code",
        "colab": {
          "base_uri": "https://localhost:8080/",
          "height": 1000
        },
        "outputId": "d06e5197-f17f-40c1-eaea-00c2370b9444"
      },
      "source": [
        "nn_model.layers.pop()\n",
        "reg = xgb.XGBRegressor(n_estimators=200, max_depth=15, objective='reg:squarederror')\n",
        "reg.fit(nn_model.predict([X_train[feature] for feature in features]),y_train,\n",
        "        eval_set=[(nn_model.predict([X_train[feature] for feature in features]),y_train),\n",
        "                  (nn_model.predict([X_val[feature] for feature in features]), y_val)],\n",
        "        early_stopping_rounds=50,\n",
        "       verbose=True)"
      ],
      "execution_count": 152,
      "outputs": [
        {
          "output_type": "stream",
          "text": [
            "[0]\tvalidation_0-rmse:2.7371\tvalidation_1-rmse:2.75977\n",
            "Multiple eval metrics have been passed: 'validation_1-rmse' will be used for early stopping.\n",
            "\n",
            "Will train until validation_1-rmse hasn't improved in 50 rounds.\n",
            "[1]\tvalidation_0-rmse:2.50811\tvalidation_1-rmse:2.54341\n",
            "[2]\tvalidation_0-rmse:2.30587\tvalidation_1-rmse:2.35428\n",
            "[3]\tvalidation_0-rmse:2.12784\tvalidation_1-rmse:2.18983\n",
            "[4]\tvalidation_0-rmse:1.97165\tvalidation_1-rmse:2.04763\n",
            "[5]\tvalidation_0-rmse:1.83522\tvalidation_1-rmse:1.92535\n",
            "[6]\tvalidation_0-rmse:1.7164\tvalidation_1-rmse:1.82102\n",
            "[7]\tvalidation_0-rmse:1.61346\tvalidation_1-rmse:1.73241\n",
            "[8]\tvalidation_0-rmse:1.52474\tvalidation_1-rmse:1.65752\n",
            "[9]\tvalidation_0-rmse:1.44859\tvalidation_1-rmse:1.5949\n",
            "[10]\tvalidation_0-rmse:1.3836\tvalidation_1-rmse:1.54267\n",
            "[11]\tvalidation_0-rmse:1.3282\tvalidation_1-rmse:1.49943\n",
            "[12]\tvalidation_0-rmse:1.28132\tvalidation_1-rmse:1.46375\n",
            "[13]\tvalidation_0-rmse:1.24184\tvalidation_1-rmse:1.43451\n",
            "[14]\tvalidation_0-rmse:1.20852\tvalidation_1-rmse:1.41069\n",
            "[15]\tvalidation_0-rmse:1.1807\tvalidation_1-rmse:1.39157\n",
            "[16]\tvalidation_0-rmse:1.15756\tvalidation_1-rmse:1.37599\n",
            "[17]\tvalidation_0-rmse:1.13819\tvalidation_1-rmse:1.36343\n",
            "[18]\tvalidation_0-rmse:1.12217\tvalidation_1-rmse:1.35333\n",
            "[19]\tvalidation_0-rmse:1.10879\tvalidation_1-rmse:1.34542\n",
            "[20]\tvalidation_0-rmse:1.09733\tvalidation_1-rmse:1.33927\n",
            "[21]\tvalidation_0-rmse:1.0879\tvalidation_1-rmse:1.3343\n",
            "[22]\tvalidation_0-rmse:1.08009\tvalidation_1-rmse:1.33042\n",
            "[23]\tvalidation_0-rmse:1.07348\tvalidation_1-rmse:1.32743\n",
            "[24]\tvalidation_0-rmse:1.06797\tvalidation_1-rmse:1.32513\n",
            "[25]\tvalidation_0-rmse:1.06346\tvalidation_1-rmse:1.32338\n",
            "[26]\tvalidation_0-rmse:1.0595\tvalidation_1-rmse:1.32204\n",
            "[27]\tvalidation_0-rmse:1.0563\tvalidation_1-rmse:1.32105\n",
            "[28]\tvalidation_0-rmse:1.05362\tvalidation_1-rmse:1.32039\n",
            "[29]\tvalidation_0-rmse:1.05123\tvalidation_1-rmse:1.31993\n",
            "[30]\tvalidation_0-rmse:1.04911\tvalidation_1-rmse:1.31966\n",
            "[31]\tvalidation_0-rmse:1.04729\tvalidation_1-rmse:1.31953\n",
            "[32]\tvalidation_0-rmse:1.04585\tvalidation_1-rmse:1.31948\n",
            "[33]\tvalidation_0-rmse:1.04451\tvalidation_1-rmse:1.31946\n",
            "[34]\tvalidation_0-rmse:1.04345\tvalidation_1-rmse:1.31952\n",
            "[35]\tvalidation_0-rmse:1.04233\tvalidation_1-rmse:1.31954\n",
            "[36]\tvalidation_0-rmse:1.04147\tvalidation_1-rmse:1.3196\n",
            "[37]\tvalidation_0-rmse:1.04064\tvalidation_1-rmse:1.31973\n",
            "[38]\tvalidation_0-rmse:1.03989\tvalidation_1-rmse:1.3199\n",
            "[39]\tvalidation_0-rmse:1.03925\tvalidation_1-rmse:1.32006\n",
            "[40]\tvalidation_0-rmse:1.03857\tvalidation_1-rmse:1.32022\n",
            "[41]\tvalidation_0-rmse:1.03806\tvalidation_1-rmse:1.32036\n",
            "[42]\tvalidation_0-rmse:1.03765\tvalidation_1-rmse:1.32053\n",
            "[43]\tvalidation_0-rmse:1.03722\tvalidation_1-rmse:1.3207\n",
            "[44]\tvalidation_0-rmse:1.03682\tvalidation_1-rmse:1.32085\n",
            "[45]\tvalidation_0-rmse:1.03632\tvalidation_1-rmse:1.32099\n",
            "[46]\tvalidation_0-rmse:1.03592\tvalidation_1-rmse:1.32115\n",
            "[47]\tvalidation_0-rmse:1.03546\tvalidation_1-rmse:1.32126\n",
            "[48]\tvalidation_0-rmse:1.03501\tvalidation_1-rmse:1.32135\n",
            "[49]\tvalidation_0-rmse:1.03478\tvalidation_1-rmse:1.32144\n",
            "[50]\tvalidation_0-rmse:1.03445\tvalidation_1-rmse:1.32153\n",
            "[51]\tvalidation_0-rmse:1.03407\tvalidation_1-rmse:1.32166\n",
            "[52]\tvalidation_0-rmse:1.03373\tvalidation_1-rmse:1.32172\n",
            "[53]\tvalidation_0-rmse:1.03351\tvalidation_1-rmse:1.32183\n",
            "[54]\tvalidation_0-rmse:1.03321\tvalidation_1-rmse:1.32191\n",
            "[55]\tvalidation_0-rmse:1.03293\tvalidation_1-rmse:1.32203\n",
            "[56]\tvalidation_0-rmse:1.03265\tvalidation_1-rmse:1.32208\n",
            "[57]\tvalidation_0-rmse:1.03249\tvalidation_1-rmse:1.32213\n",
            "[58]\tvalidation_0-rmse:1.03222\tvalidation_1-rmse:1.32221\n",
            "[59]\tvalidation_0-rmse:1.03191\tvalidation_1-rmse:1.32221\n",
            "[60]\tvalidation_0-rmse:1.0318\tvalidation_1-rmse:1.32222\n",
            "[61]\tvalidation_0-rmse:1.03167\tvalidation_1-rmse:1.32225\n",
            "[62]\tvalidation_0-rmse:1.03144\tvalidation_1-rmse:1.3223\n",
            "[63]\tvalidation_0-rmse:1.03124\tvalidation_1-rmse:1.32232\n",
            "[64]\tvalidation_0-rmse:1.03104\tvalidation_1-rmse:1.32236\n",
            "[65]\tvalidation_0-rmse:1.03079\tvalidation_1-rmse:1.32242\n",
            "[66]\tvalidation_0-rmse:1.03066\tvalidation_1-rmse:1.32244\n",
            "[67]\tvalidation_0-rmse:1.03045\tvalidation_1-rmse:1.3225\n",
            "[68]\tvalidation_0-rmse:1.03031\tvalidation_1-rmse:1.32252\n",
            "[69]\tvalidation_0-rmse:1.03021\tvalidation_1-rmse:1.32253\n",
            "[70]\tvalidation_0-rmse:1.02995\tvalidation_1-rmse:1.32257\n",
            "[71]\tvalidation_0-rmse:1.02991\tvalidation_1-rmse:1.32259\n",
            "[72]\tvalidation_0-rmse:1.02968\tvalidation_1-rmse:1.32264\n",
            "[73]\tvalidation_0-rmse:1.02958\tvalidation_1-rmse:1.32267\n",
            "[74]\tvalidation_0-rmse:1.02944\tvalidation_1-rmse:1.32268\n",
            "[75]\tvalidation_0-rmse:1.02934\tvalidation_1-rmse:1.32269\n",
            "[76]\tvalidation_0-rmse:1.0293\tvalidation_1-rmse:1.3227\n",
            "[77]\tvalidation_0-rmse:1.02915\tvalidation_1-rmse:1.32273\n",
            "[78]\tvalidation_0-rmse:1.02909\tvalidation_1-rmse:1.32273\n",
            "[79]\tvalidation_0-rmse:1.029\tvalidation_1-rmse:1.32274\n",
            "[80]\tvalidation_0-rmse:1.02895\tvalidation_1-rmse:1.32275\n",
            "[81]\tvalidation_0-rmse:1.02889\tvalidation_1-rmse:1.32276\n",
            "[82]\tvalidation_0-rmse:1.02885\tvalidation_1-rmse:1.32278\n",
            "[83]\tvalidation_0-rmse:1.02868\tvalidation_1-rmse:1.3228\n",
            "Stopping. Best iteration:\n",
            "[33]\tvalidation_0-rmse:1.04451\tvalidation_1-rmse:1.31946\n",
            "\n"
          ],
          "name": "stdout"
        },
        {
          "output_type": "execute_result",
          "data": {
            "text/plain": [
              "XGBRegressor(base_score=0.5, booster='gbtree', colsample_bylevel=1,\n",
              "             colsample_bynode=1, colsample_bytree=1, gamma=0,\n",
              "             importance_type='gain', learning_rate=0.1, max_delta_step=0,\n",
              "             max_depth=15, min_child_weight=1, missing=None, n_estimators=200,\n",
              "             n_jobs=1, nthread=None, objective='reg:squarederror',\n",
              "             random_state=0, reg_alpha=0, reg_lambda=1, scale_pos_weight=1,\n",
              "             seed=None, silent=None, subsample=1, verbosity=1)"
            ]
          },
          "metadata": {
            "tags": []
          },
          "execution_count": 152
        }
      ]
    },
    {
      "cell_type": "markdown",
      "metadata": {
        "id": "TsJHKBNtGt_4",
        "colab_type": "text"
      },
      "source": [
        "The current model's performance is better the one we got from the ANN model. This time we even imporved a bit the original XGBoost model."
      ]
    },
    {
      "cell_type": "markdown",
      "metadata": {
        "id": "C0HA7-cGGFrq",
        "colab_type": "text"
      },
      "source": [
        "Next, we will try using the concatenation layer's output. Perhaps XGBoost will be able to use the abundance of information in that layer better than our ANN.\n",
        "\n",
        "The concatenation layer holds the raw data from the numerical features as well as the embeddings for categorical features."
      ]
    },
    {
      "cell_type": "code",
      "metadata": {
        "id": "ekQmqNOKilLg",
        "colab_type": "code",
        "colab": {
          "base_uri": "https://localhost:8080/",
          "height": 1000
        },
        "outputId": "634f6379-3fb8-4fc3-c7ae-07ae8342f068"
      },
      "source": [
        "layer_name = 'concatenate_1'\n",
        "intermediate_layer_model = Model(inputs=nn_model.input,\n",
        "                                       outputs=nn_model.get_layer(layer_name).output)\n",
        "\n",
        "reg = xgb.XGBRegressor(n_estimators=200, max_depth=5, objective='reg:squarederror')\n",
        "reg.fit(intermediate_layer_model.predict([X_train[feature] for feature in features]),y_train,\n",
        "        eval_set=[(intermediate_layer_model.predict([X_train[feature] for feature in features]),y_train),\n",
        "                  (intermediate_layer_model.predict([X_val[feature] for feature in features]), y_val)],\n",
        "        early_stopping_rounds=50,\n",
        "       verbose=True)"
      ],
      "execution_count": 21,
      "outputs": [
        {
          "output_type": "stream",
          "text": [
            "[0]\tvalidation_0-rmse:2.79369\tvalidation_1-rmse:2.79686\n",
            "Multiple eval metrics have been passed: 'validation_1-rmse' will be used for early stopping.\n",
            "\n",
            "Will train until validation_1-rmse hasn't improved in 50 rounds.\n",
            "[1]\tvalidation_0-rmse:2.6165\tvalidation_1-rmse:2.61949\n",
            "[2]\tvalidation_0-rmse:2.45878\tvalidation_1-rmse:2.46234\n",
            "[3]\tvalidation_0-rmse:2.32298\tvalidation_1-rmse:2.32702\n",
            "[4]\tvalidation_0-rmse:2.20316\tvalidation_1-rmse:2.20741\n",
            "[5]\tvalidation_0-rmse:2.09993\tvalidation_1-rmse:2.10478\n",
            "[6]\tvalidation_0-rmse:2.01218\tvalidation_1-rmse:2.0176\n",
            "[7]\tvalidation_0-rmse:1.93237\tvalidation_1-rmse:1.93826\n",
            "[8]\tvalidation_0-rmse:1.86495\tvalidation_1-rmse:1.87156\n",
            "[9]\tvalidation_0-rmse:1.80663\tvalidation_1-rmse:1.81395\n",
            "[10]\tvalidation_0-rmse:1.75862\tvalidation_1-rmse:1.76653\n",
            "[11]\tvalidation_0-rmse:1.71284\tvalidation_1-rmse:1.7213\n",
            "[12]\tvalidation_0-rmse:1.67642\tvalidation_1-rmse:1.68578\n",
            "[13]\tvalidation_0-rmse:1.64437\tvalidation_1-rmse:1.65451\n",
            "[14]\tvalidation_0-rmse:1.61566\tvalidation_1-rmse:1.62652\n",
            "[15]\tvalidation_0-rmse:1.59093\tvalidation_1-rmse:1.60208\n",
            "[16]\tvalidation_0-rmse:1.57001\tvalidation_1-rmse:1.58179\n",
            "[17]\tvalidation_0-rmse:1.55282\tvalidation_1-rmse:1.56533\n",
            "[18]\tvalidation_0-rmse:1.53719\tvalidation_1-rmse:1.55037\n",
            "[19]\tvalidation_0-rmse:1.52361\tvalidation_1-rmse:1.53746\n",
            "[20]\tvalidation_0-rmse:1.51162\tvalidation_1-rmse:1.526\n",
            "[21]\tvalidation_0-rmse:1.5013\tvalidation_1-rmse:1.51644\n",
            "[22]\tvalidation_0-rmse:1.49148\tvalidation_1-rmse:1.50694\n",
            "[23]\tvalidation_0-rmse:1.48374\tvalidation_1-rmse:1.4998\n",
            "[24]\tvalidation_0-rmse:1.47528\tvalidation_1-rmse:1.49167\n",
            "[25]\tvalidation_0-rmse:1.46821\tvalidation_1-rmse:1.4851\n",
            "[26]\tvalidation_0-rmse:1.46198\tvalidation_1-rmse:1.47926\n",
            "[27]\tvalidation_0-rmse:1.45548\tvalidation_1-rmse:1.4729\n",
            "[28]\tvalidation_0-rmse:1.451\tvalidation_1-rmse:1.46869\n",
            "[29]\tvalidation_0-rmse:1.44575\tvalidation_1-rmse:1.46385\n",
            "[30]\tvalidation_0-rmse:1.43971\tvalidation_1-rmse:1.45811\n",
            "[31]\tvalidation_0-rmse:1.43556\tvalidation_1-rmse:1.45401\n",
            "[32]\tvalidation_0-rmse:1.43176\tvalidation_1-rmse:1.45048\n",
            "[33]\tvalidation_0-rmse:1.42918\tvalidation_1-rmse:1.44792\n",
            "[34]\tvalidation_0-rmse:1.42477\tvalidation_1-rmse:1.44372\n",
            "[35]\tvalidation_0-rmse:1.41988\tvalidation_1-rmse:1.43891\n",
            "[36]\tvalidation_0-rmse:1.41631\tvalidation_1-rmse:1.43547\n",
            "[37]\tvalidation_0-rmse:1.41364\tvalidation_1-rmse:1.43298\n",
            "[38]\tvalidation_0-rmse:1.41075\tvalidation_1-rmse:1.43035\n",
            "[39]\tvalidation_0-rmse:1.40698\tvalidation_1-rmse:1.42688\n",
            "[40]\tvalidation_0-rmse:1.40447\tvalidation_1-rmse:1.42454\n",
            "[41]\tvalidation_0-rmse:1.40196\tvalidation_1-rmse:1.42227\n",
            "[42]\tvalidation_0-rmse:1.39983\tvalidation_1-rmse:1.42026\n",
            "[43]\tvalidation_0-rmse:1.39803\tvalidation_1-rmse:1.41879\n",
            "[44]\tvalidation_0-rmse:1.39521\tvalidation_1-rmse:1.41633\n",
            "[45]\tvalidation_0-rmse:1.39329\tvalidation_1-rmse:1.41447\n",
            "[46]\tvalidation_0-rmse:1.39126\tvalidation_1-rmse:1.41251\n",
            "[47]\tvalidation_0-rmse:1.3891\tvalidation_1-rmse:1.41064\n",
            "[48]\tvalidation_0-rmse:1.38721\tvalidation_1-rmse:1.40906\n",
            "[49]\tvalidation_0-rmse:1.38545\tvalidation_1-rmse:1.40736\n",
            "[50]\tvalidation_0-rmse:1.3834\tvalidation_1-rmse:1.40561\n",
            "[51]\tvalidation_0-rmse:1.38127\tvalidation_1-rmse:1.40347\n",
            "[52]\tvalidation_0-rmse:1.37977\tvalidation_1-rmse:1.40209\n",
            "[53]\tvalidation_0-rmse:1.37873\tvalidation_1-rmse:1.40126\n",
            "[54]\tvalidation_0-rmse:1.37732\tvalidation_1-rmse:1.40021\n",
            "[55]\tvalidation_0-rmse:1.37562\tvalidation_1-rmse:1.3987\n",
            "[56]\tvalidation_0-rmse:1.37464\tvalidation_1-rmse:1.39779\n",
            "[57]\tvalidation_0-rmse:1.37328\tvalidation_1-rmse:1.39654\n",
            "[58]\tvalidation_0-rmse:1.37152\tvalidation_1-rmse:1.39488\n",
            "[59]\tvalidation_0-rmse:1.37007\tvalidation_1-rmse:1.39374\n",
            "[60]\tvalidation_0-rmse:1.36892\tvalidation_1-rmse:1.39272\n",
            "[61]\tvalidation_0-rmse:1.36771\tvalidation_1-rmse:1.39172\n",
            "[62]\tvalidation_0-rmse:1.36631\tvalidation_1-rmse:1.39057\n",
            "[63]\tvalidation_0-rmse:1.36525\tvalidation_1-rmse:1.38971\n",
            "[64]\tvalidation_0-rmse:1.36428\tvalidation_1-rmse:1.38891\n",
            "[65]\tvalidation_0-rmse:1.36271\tvalidation_1-rmse:1.38749\n",
            "[66]\tvalidation_0-rmse:1.36174\tvalidation_1-rmse:1.38667\n",
            "[67]\tvalidation_0-rmse:1.36078\tvalidation_1-rmse:1.38566\n",
            "[68]\tvalidation_0-rmse:1.35993\tvalidation_1-rmse:1.38496\n",
            "[69]\tvalidation_0-rmse:1.35894\tvalidation_1-rmse:1.38397\n",
            "[70]\tvalidation_0-rmse:1.35805\tvalidation_1-rmse:1.38312\n",
            "[71]\tvalidation_0-rmse:1.35713\tvalidation_1-rmse:1.38248\n",
            "[72]\tvalidation_0-rmse:1.35648\tvalidation_1-rmse:1.38192\n",
            "[73]\tvalidation_0-rmse:1.35566\tvalidation_1-rmse:1.38124\n",
            "[74]\tvalidation_0-rmse:1.35506\tvalidation_1-rmse:1.38066\n",
            "[75]\tvalidation_0-rmse:1.3539\tvalidation_1-rmse:1.37972\n",
            "[76]\tvalidation_0-rmse:1.35327\tvalidation_1-rmse:1.37923\n",
            "[77]\tvalidation_0-rmse:1.35235\tvalidation_1-rmse:1.37848\n",
            "[78]\tvalidation_0-rmse:1.35135\tvalidation_1-rmse:1.3776\n",
            "[79]\tvalidation_0-rmse:1.3504\tvalidation_1-rmse:1.37673\n",
            "[80]\tvalidation_0-rmse:1.34961\tvalidation_1-rmse:1.37607\n",
            "[81]\tvalidation_0-rmse:1.34905\tvalidation_1-rmse:1.3757\n",
            "[82]\tvalidation_0-rmse:1.34818\tvalidation_1-rmse:1.37501\n",
            "[83]\tvalidation_0-rmse:1.34743\tvalidation_1-rmse:1.37441\n",
            "[84]\tvalidation_0-rmse:1.34688\tvalidation_1-rmse:1.37391\n",
            "[85]\tvalidation_0-rmse:1.34631\tvalidation_1-rmse:1.37346\n",
            "[86]\tvalidation_0-rmse:1.34562\tvalidation_1-rmse:1.37293\n",
            "[87]\tvalidation_0-rmse:1.3452\tvalidation_1-rmse:1.37259\n",
            "[88]\tvalidation_0-rmse:1.34457\tvalidation_1-rmse:1.37203\n",
            "[89]\tvalidation_0-rmse:1.34394\tvalidation_1-rmse:1.37154\n",
            "[90]\tvalidation_0-rmse:1.3431\tvalidation_1-rmse:1.37088\n",
            "[91]\tvalidation_0-rmse:1.34252\tvalidation_1-rmse:1.37044\n",
            "[92]\tvalidation_0-rmse:1.3417\tvalidation_1-rmse:1.36966\n",
            "[93]\tvalidation_0-rmse:1.34132\tvalidation_1-rmse:1.36936\n",
            "[94]\tvalidation_0-rmse:1.34089\tvalidation_1-rmse:1.36906\n",
            "[95]\tvalidation_0-rmse:1.34017\tvalidation_1-rmse:1.36848\n",
            "[96]\tvalidation_0-rmse:1.33946\tvalidation_1-rmse:1.3678\n",
            "[97]\tvalidation_0-rmse:1.33893\tvalidation_1-rmse:1.3674\n",
            "[98]\tvalidation_0-rmse:1.33838\tvalidation_1-rmse:1.36698\n",
            "[99]\tvalidation_0-rmse:1.33765\tvalidation_1-rmse:1.36638\n",
            "[100]\tvalidation_0-rmse:1.3368\tvalidation_1-rmse:1.36571\n",
            "[101]\tvalidation_0-rmse:1.33587\tvalidation_1-rmse:1.36482\n",
            "[102]\tvalidation_0-rmse:1.33539\tvalidation_1-rmse:1.36444\n",
            "[103]\tvalidation_0-rmse:1.33478\tvalidation_1-rmse:1.36397\n",
            "[104]\tvalidation_0-rmse:1.33429\tvalidation_1-rmse:1.36363\n",
            "[105]\tvalidation_0-rmse:1.33367\tvalidation_1-rmse:1.36306\n",
            "[106]\tvalidation_0-rmse:1.33334\tvalidation_1-rmse:1.36286\n",
            "[107]\tvalidation_0-rmse:1.33292\tvalidation_1-rmse:1.36255\n",
            "[108]\tvalidation_0-rmse:1.33241\tvalidation_1-rmse:1.36216\n",
            "[109]\tvalidation_0-rmse:1.33176\tvalidation_1-rmse:1.3616\n",
            "[110]\tvalidation_0-rmse:1.33129\tvalidation_1-rmse:1.36136\n",
            "[111]\tvalidation_0-rmse:1.33078\tvalidation_1-rmse:1.36095\n",
            "[112]\tvalidation_0-rmse:1.33017\tvalidation_1-rmse:1.36046\n",
            "[113]\tvalidation_0-rmse:1.32989\tvalidation_1-rmse:1.3602\n",
            "[114]\tvalidation_0-rmse:1.3294\tvalidation_1-rmse:1.35982\n",
            "[115]\tvalidation_0-rmse:1.32906\tvalidation_1-rmse:1.35961\n",
            "[116]\tvalidation_0-rmse:1.32849\tvalidation_1-rmse:1.35928\n",
            "[117]\tvalidation_0-rmse:1.32819\tvalidation_1-rmse:1.35908\n",
            "[118]\tvalidation_0-rmse:1.32772\tvalidation_1-rmse:1.35872\n",
            "[119]\tvalidation_0-rmse:1.32748\tvalidation_1-rmse:1.35856\n",
            "[120]\tvalidation_0-rmse:1.32713\tvalidation_1-rmse:1.35822\n",
            "[121]\tvalidation_0-rmse:1.32671\tvalidation_1-rmse:1.35788\n",
            "[122]\tvalidation_0-rmse:1.32631\tvalidation_1-rmse:1.35753\n",
            "[123]\tvalidation_0-rmse:1.32592\tvalidation_1-rmse:1.35727\n",
            "[124]\tvalidation_0-rmse:1.32552\tvalidation_1-rmse:1.35702\n",
            "[125]\tvalidation_0-rmse:1.32501\tvalidation_1-rmse:1.3566\n",
            "[126]\tvalidation_0-rmse:1.32457\tvalidation_1-rmse:1.35631\n",
            "[127]\tvalidation_0-rmse:1.32425\tvalidation_1-rmse:1.35604\n",
            "[128]\tvalidation_0-rmse:1.32393\tvalidation_1-rmse:1.35583\n",
            "[129]\tvalidation_0-rmse:1.32336\tvalidation_1-rmse:1.35529\n",
            "[130]\tvalidation_0-rmse:1.32259\tvalidation_1-rmse:1.35458\n",
            "[131]\tvalidation_0-rmse:1.32237\tvalidation_1-rmse:1.35446\n",
            "[132]\tvalidation_0-rmse:1.32207\tvalidation_1-rmse:1.35429\n",
            "[133]\tvalidation_0-rmse:1.32153\tvalidation_1-rmse:1.35389\n",
            "[134]\tvalidation_0-rmse:1.3212\tvalidation_1-rmse:1.35369\n",
            "[135]\tvalidation_0-rmse:1.32098\tvalidation_1-rmse:1.35359\n",
            "[136]\tvalidation_0-rmse:1.32071\tvalidation_1-rmse:1.35337\n",
            "[137]\tvalidation_0-rmse:1.32028\tvalidation_1-rmse:1.35301\n",
            "[138]\tvalidation_0-rmse:1.32\tvalidation_1-rmse:1.35281\n",
            "[139]\tvalidation_0-rmse:1.31963\tvalidation_1-rmse:1.35246\n",
            "[140]\tvalidation_0-rmse:1.31918\tvalidation_1-rmse:1.35232\n",
            "[141]\tvalidation_0-rmse:1.31895\tvalidation_1-rmse:1.35219\n",
            "[142]\tvalidation_0-rmse:1.31859\tvalidation_1-rmse:1.35186\n",
            "[143]\tvalidation_0-rmse:1.31829\tvalidation_1-rmse:1.35164\n",
            "[144]\tvalidation_0-rmse:1.31784\tvalidation_1-rmse:1.35128\n",
            "[145]\tvalidation_0-rmse:1.31749\tvalidation_1-rmse:1.35102\n",
            "[146]\tvalidation_0-rmse:1.31723\tvalidation_1-rmse:1.35086\n",
            "[147]\tvalidation_0-rmse:1.31666\tvalidation_1-rmse:1.35034\n",
            "[148]\tvalidation_0-rmse:1.31635\tvalidation_1-rmse:1.35017\n",
            "[149]\tvalidation_0-rmse:1.31602\tvalidation_1-rmse:1.34995\n",
            "[150]\tvalidation_0-rmse:1.31548\tvalidation_1-rmse:1.34959\n",
            "[151]\tvalidation_0-rmse:1.31524\tvalidation_1-rmse:1.34947\n",
            "[152]\tvalidation_0-rmse:1.31475\tvalidation_1-rmse:1.34917\n",
            "[153]\tvalidation_0-rmse:1.31451\tvalidation_1-rmse:1.34908\n",
            "[154]\tvalidation_0-rmse:1.31412\tvalidation_1-rmse:1.34878\n",
            "[155]\tvalidation_0-rmse:1.3138\tvalidation_1-rmse:1.3486\n",
            "[156]\tvalidation_0-rmse:1.31359\tvalidation_1-rmse:1.3485\n",
            "[157]\tvalidation_0-rmse:1.31311\tvalidation_1-rmse:1.34803\n",
            "[158]\tvalidation_0-rmse:1.31268\tvalidation_1-rmse:1.34764\n",
            "[159]\tvalidation_0-rmse:1.31234\tvalidation_1-rmse:1.34742\n",
            "[160]\tvalidation_0-rmse:1.3119\tvalidation_1-rmse:1.3471\n",
            "[161]\tvalidation_0-rmse:1.31143\tvalidation_1-rmse:1.3468\n",
            "[162]\tvalidation_0-rmse:1.31117\tvalidation_1-rmse:1.34665\n",
            "[163]\tvalidation_0-rmse:1.3108\tvalidation_1-rmse:1.34638\n",
            "[164]\tvalidation_0-rmse:1.31029\tvalidation_1-rmse:1.34594\n",
            "[165]\tvalidation_0-rmse:1.31015\tvalidation_1-rmse:1.34583\n",
            "[166]\tvalidation_0-rmse:1.30979\tvalidation_1-rmse:1.34555\n",
            "[167]\tvalidation_0-rmse:1.3095\tvalidation_1-rmse:1.34543\n",
            "[168]\tvalidation_0-rmse:1.30922\tvalidation_1-rmse:1.34527\n",
            "[169]\tvalidation_0-rmse:1.30883\tvalidation_1-rmse:1.34495\n",
            "[170]\tvalidation_0-rmse:1.30864\tvalidation_1-rmse:1.34487\n",
            "[171]\tvalidation_0-rmse:1.30839\tvalidation_1-rmse:1.34466\n",
            "[172]\tvalidation_0-rmse:1.30808\tvalidation_1-rmse:1.34457\n",
            "[173]\tvalidation_0-rmse:1.30789\tvalidation_1-rmse:1.34444\n",
            "[174]\tvalidation_0-rmse:1.30756\tvalidation_1-rmse:1.34415\n",
            "[175]\tvalidation_0-rmse:1.3073\tvalidation_1-rmse:1.34402\n",
            "[176]\tvalidation_0-rmse:1.30693\tvalidation_1-rmse:1.34379\n",
            "[177]\tvalidation_0-rmse:1.3068\tvalidation_1-rmse:1.34372\n",
            "[178]\tvalidation_0-rmse:1.30658\tvalidation_1-rmse:1.34357\n",
            "[179]\tvalidation_0-rmse:1.30639\tvalidation_1-rmse:1.34346\n",
            "[180]\tvalidation_0-rmse:1.30605\tvalidation_1-rmse:1.34325\n",
            "[181]\tvalidation_0-rmse:1.30561\tvalidation_1-rmse:1.34292\n",
            "[182]\tvalidation_0-rmse:1.30532\tvalidation_1-rmse:1.34273\n",
            "[183]\tvalidation_0-rmse:1.30508\tvalidation_1-rmse:1.34259\n",
            "[184]\tvalidation_0-rmse:1.3049\tvalidation_1-rmse:1.34252\n",
            "[185]\tvalidation_0-rmse:1.30455\tvalidation_1-rmse:1.34224\n",
            "[186]\tvalidation_0-rmse:1.30418\tvalidation_1-rmse:1.3419\n",
            "[187]\tvalidation_0-rmse:1.30373\tvalidation_1-rmse:1.3416\n",
            "[188]\tvalidation_0-rmse:1.30352\tvalidation_1-rmse:1.34151\n",
            "[189]\tvalidation_0-rmse:1.30321\tvalidation_1-rmse:1.34135\n",
            "[190]\tvalidation_0-rmse:1.30285\tvalidation_1-rmse:1.34114\n",
            "[191]\tvalidation_0-rmse:1.3027\tvalidation_1-rmse:1.3411\n",
            "[192]\tvalidation_0-rmse:1.30245\tvalidation_1-rmse:1.34105\n",
            "[193]\tvalidation_0-rmse:1.30223\tvalidation_1-rmse:1.34094\n",
            "[194]\tvalidation_0-rmse:1.30192\tvalidation_1-rmse:1.3407\n",
            "[195]\tvalidation_0-rmse:1.30163\tvalidation_1-rmse:1.34047\n",
            "[196]\tvalidation_0-rmse:1.30154\tvalidation_1-rmse:1.34042\n",
            "[197]\tvalidation_0-rmse:1.30136\tvalidation_1-rmse:1.34036\n",
            "[198]\tvalidation_0-rmse:1.30121\tvalidation_1-rmse:1.34027\n",
            "[199]\tvalidation_0-rmse:1.30085\tvalidation_1-rmse:1.34006\n"
          ],
          "name": "stdout"
        },
        {
          "output_type": "execute_result",
          "data": {
            "text/plain": [
              "XGBRegressor(base_score=0.5, booster='gbtree', colsample_bylevel=1,\n",
              "             colsample_bynode=1, colsample_bytree=1, gamma=0,\n",
              "             importance_type='gain', learning_rate=0.1, max_delta_step=0,\n",
              "             max_depth=5, min_child_weight=1, missing=None, n_estimators=200,\n",
              "             n_jobs=1, nthread=None, objective='reg:squarederror',\n",
              "             random_state=0, reg_alpha=0, reg_lambda=1, scale_pos_weight=1,\n",
              "             seed=None, silent=None, subsample=1, verbosity=1)"
            ]
          },
          "metadata": {
            "tags": []
          },
          "execution_count": 21
        }
      ]
    },
    {
      "cell_type": "markdown",
      "metadata": {
        "id": "ofCXyBJhwm_A",
        "colab_type": "text"
      },
      "source": [
        "As we can see, this model did not improve performance, and actually takes up a lot more memory and a long time to train and predict, due the vast number of inputs."
      ]
    }
  ]
}